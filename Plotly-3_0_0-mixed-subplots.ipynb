{
 "cells": [
  {
   "cell_type": "markdown",
   "metadata": {},
   "source": [
    "## <center>Plotly 3.0.0rc10<br><br>Mixed subplots including usually defined traces and at least one trace generated via figure_factory ##"
   ]
  },
  {
   "cell_type": "markdown",
   "metadata": {},
   "source": [
    "This Jupyter notebook is intended for illustrating the new features of Plotly 3.0.0.\n",
    "\n",
    "We are sampling from a  bivariate normal distributed data and define its scatter plot. On the other hand we extract the\n",
    "X-marginal distribution from data points and generate its distplot. The corresponding figures are mixed into a subplot with 3 cells."
   ]
  },
  {
   "cell_type": "code",
   "execution_count": null,
   "metadata": {},
   "outputs": [],
   "source": [
    "from  plotly import figure_factory as FF\n",
    "import plotly.graph_objs as go\n",
    "from plotly.graph_objs import FigureWidget\n",
    "import plotly.tools as tls\n",
    "import numpy as np"
   ]
  },
  {
   "cell_type": "markdown",
   "metadata": {},
   "source": [
    "Sample `n_pts` from the bivariate normal distribution of given mean vector and covariance matrix:"
   ]
  },
  {
   "cell_type": "code",
   "execution_count": null,
   "metadata": {},
   "outputs": [],
   "source": [
    "n_pts=1000\n",
    "m=[ 2.16, 3 ]#mean vector\n",
    "Sigma=np.array([[1.2, 0.8],#covariance matrix\n",
    "                [0.8, 1.75]])\n",
    "x, y=np.random.multivariate_normal(m, Sigma, size=n_pts).T"
   ]
  },
  {
   "cell_type": "code",
   "execution_count": null,
   "metadata": {},
   "outputs": [],
   "source": [
    "trace_biv_normal=go.Scatter(x=x,\n",
    "                            y=y,\n",
    "                            mode='markers',\n",
    "                            marker=dict(size=6,\n",
    "                                        color ='rgb(8, 104, 172)', # 'rgb(44, 127, 184)', #''rgb(37, 52, 148)', \n",
    "                                        line=dict(width=0.5, color='rgb(225,225,225)')),\n",
    "                           )"
   ]
  },
  {
   "cell_type": "markdown",
   "metadata": {},
   "source": [
    "Generate the distplot of the x-marginal distribution:"
   ]
  },
  {
   "cell_type": "code",
   "execution_count": null,
   "metadata": {},
   "outputs": [],
   "source": [
    "f1 = go.FigureWidget(FF.create_distplot(hist_data=[x], group_labels=['distplot']))\n",
    "f1"
   ]
  },
  {
   "cell_type": "markdown",
   "metadata": {
    "collapsed": true
   },
   "source": [
    "This figure consists in two vertically stacked subplots. In the upper cell is inserted the histogram and \n",
    "the probability density function, whereas in the lower one the rugplot:"
   ]
  },
  {
   "cell_type": "code",
   "execution_count": null,
   "metadata": {},
   "outputs": [],
   "source": [
    "f1.data"
   ]
  },
  {
   "cell_type": "markdown",
   "metadata": {
    "collapsed": true
   },
   "source": [
    "We define a new  subplot of  two rows and two columns.  In the cell (1,2) we insert the \n",
    "histogram + the probability density function for the marginal distribution,  in the cell(2,2) the corresponding rugplot, and the cells (1,1) and (2, 1)  are concatenated to get one cell indexed  (1,1), where we insert the scatter plot (the bivariate distribution)."
   ]
  },
  {
   "cell_type": "markdown",
   "metadata": {},
   "source": [
    "Such a structure is set via  specs (subplot specifications):"
   ]
  },
  {
   "cell_type": "code",
   "execution_count": null,
   "metadata": {},
   "outputs": [],
   "source": [
    "import warnings\n",
    "warnings.filterwarnings(\"ignore\")"
   ]
  },
  {
   "cell_type": "code",
   "execution_count": null,
   "metadata": {},
   "outputs": [],
   "source": [
    "new_fig = tls.make_subplots(subplot_titles=('Scatter plot of the bivariate normal sampling', 'X-marginal distribution'),\n",
    "                            specs=[[ {'rowspan': 2}, {}], #rowspan=2 means that we  concatenate \n",
    "                                                         #(1,1) with (1,2) into one cell encoded (1,1) , {}],\n",
    "                                  [ None, {}]],                     \n",
    "                            rows=2,\n",
    "                            cols=2,\n",
    "                            horizontal_spacing=0.075,\n",
    "                            vertical_spacing=0.001\n",
    "    )"
   ]
  },
  {
   "cell_type": "code",
   "execution_count": null,
   "metadata": {},
   "outputs": [],
   "source": [
    "new_fig"
   ]
  },
  {
   "cell_type": "code",
   "execution_count": null,
   "metadata": {},
   "outputs": [],
   "source": [
    "fws = go.FigureWidget(new_fig)"
   ]
  },
  {
   "cell_type": "markdown",
   "metadata": {},
   "source": [
    "Now we add  the traces of the initially defined figures to the corresponding cell in the newly defined  subplot:"
   ]
  },
  {
   "cell_type": "code",
   "execution_count": null,
   "metadata": {},
   "outputs": [],
   "source": [
    "fws.add_trace(trace_biv_normal, 1, 1)\n",
    "fws.add_trace(f1.data[0], 1, 2)#Histogram\n",
    "fws.add_trace(f1.data[1], 1, 2)#probability density\n",
    "fws.add_trace(f1.data[2], 2, 2)#rugplot\n",
    "fws"
   ]
  },
  {
   "cell_type": "markdown",
   "metadata": {},
   "source": [
    "We transfer some of the `f1.layout.xaxis`, and `f1.layout.yaxis2` attributes to the corresponding axes in the `fws`, \n",
    "and  improve the general figure aesthetics using `fws.bach_update()`:"
   ]
  },
  {
   "cell_type": "code",
   "execution_count": null,
   "metadata": {},
   "outputs": [],
   "source": [
    "f1.layout"
   ]
  },
  {
   "cell_type": "code",
   "execution_count": null,
   "metadata": {},
   "outputs": [],
   "source": [
    "with fws.batch_update():\n",
    "    fws.data[1].marker.line=dict(color='black', width=1.5)\n",
    "    fws.data[1].autobinx=True#with  autobinx=False the distribution of data is poorly approximated,as one can see in f1\n",
    "    fws.data[3].y=['rugplot']*n_pts#without this update it is displayed distplot, but I cannot understand why this string?\n",
    "                                   #it isn't the yaxis3.title\n",
    "    fws.layout.update(width=900, height=500, showlegend=False, plot_bgcolor='rgb(245,245,245)')\n",
    "    fws.layout.yaxis1.update(zeroline=False, showline=True,  mirror=True, ticklen=4)\n",
    "    fws.layout.xaxis1.update( zeroline=False, showline=True,  mirror=True, ticklen=4)\n",
    "    fws.layout.yaxis2.ticklen=4\n",
    "    fws.layout.xaxis2.ticklen=4\n",
    "    fws.layout.xaxis3.update(zeroline= False, showticklabels=False, showgrid=False, ticklen=4)\n",
    "fws"
   ]
  },
  {
   "cell_type": "code",
   "execution_count": null,
   "metadata": {},
   "outputs": [],
   "source": []
  }
 ],
 "metadata": {
  "kernelspec": {
   "display_name": "Python 3",
   "language": "python",
   "name": "python3"
  },
  "language_info": {
   "codemirror_mode": {
    "name": "ipython",
    "version": 3
   },
   "file_extension": ".py",
   "mimetype": "text/x-python",
   "name": "python",
   "nbconvert_exporter": "python",
   "pygments_lexer": "ipython3",
   "version": "3.6.4"
  }
 },
 "nbformat": 4,
 "nbformat_minor": 1
}
