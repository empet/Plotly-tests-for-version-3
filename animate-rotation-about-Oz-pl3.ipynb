{
 "cells": [
  {
   "cell_type": "markdown",
   "metadata": {},
   "source": [
    "## <center>Animation with  Plotly 3.0.0`<br>Rotation about z-axis implemented as a rotation of the camera eye"
   ]
  },
  {
   "cell_type": "markdown",
   "metadata": {},
   "source": [
    "In order to animate the rotation of a 3d object with Plotly it is much more convenient to rotate the camera eye about that object. We define below  such\n",
    "a rotation. "
   ]
  },
  {
   "cell_type": "code",
   "execution_count": 1,
   "metadata": {},
   "outputs": [],
   "source": [
    "import numpy as np\n",
    "from numpy import sin, cos\n",
    "from plotly.graph_objs import FigureWidget\n",
    "import plotly.graph_objs as go"
   ]
  },
  {
   "cell_type": "markdown",
   "metadata": {},
   "source": [
    "The rotation about Oz, with $\\theta$ radians, is defined \n",
    " via a planar rotation in each plane z=cst, considered as a rotation in the complex plane:\n",
    " $$rot_\\theta(x+j y)=e^{ j \\theta}(x+j y)$$"
   ]
  },
  {
   "cell_type": "code",
   "execution_count": 2,
   "metadata": {},
   "outputs": [],
   "source": [
    "def rotate_z(x, y, z, theta):\n",
    "    w=x+1j*y\n",
    "    return np.real(np.exp(2*np.pi*1j*theta)*w), np.imag(np.exp(2*np.pi*1j*theta)*w), z"
   ]
  },
  {
   "cell_type": "markdown",
   "metadata": {},
   "source": [
    "Define the surface:"
   ]
  },
  {
   "cell_type": "code",
   "execution_count": 3,
   "metadata": {},
   "outputs": [],
   "source": [
    "u=np.linspace(0, 2*np.pi, 75)\n",
    "v=np.linspace(0, 2*np.pi, 75)\n",
    "u,v=np.meshgrid(u,v)\n",
    "\n",
    "x=cos(v)*(6-(5/4+sin(3*u))*sin(u-3*v))\n",
    "y=sin(v)*(6-(5/4+sin(3*u))*sin(u-3*v))\n",
    "z=-cos(u-3*v)*(5/4+sin(3*u))"
   ]
  },
  {
   "cell_type": "code",
   "execution_count": 4,
   "metadata": {},
   "outputs": [],
   "source": [
    "balance=[[0.0, 'rgb(23, 28, 66)'],\n",
    "         [0.1, 'rgb(41, 61, 150)'],\n",
    "         [0.2, 'rgb(21, 112, 187)'],\n",
    "         [0.3, 'rgb(89, 155, 186)'],\n",
    "         [0.4, 'rgb(169, 194, 202)'],\n",
    "         [0.5, 'rgb(240, 236, 235)'],\n",
    "         [0.6, 'rgb(219, 177, 163)'],\n",
    "         [0.7, 'rgb(201, 118, 90)'],\n",
    "         [0.8, 'rgb(179, 56, 38)'],\n",
    "         [0.9, 'rgb(125, 13, 41)'],\n",
    "         [1.0, 'rgb(60, 9, 17)']]"
   ]
  },
  {
   "cell_type": "code",
   "execution_count": 5,
   "metadata": {},
   "outputs": [],
   "source": [
    "axes_style = dict(showbackground=True, \n",
    "                  backgroundcolor=\"rgb(230, 230,230)\",\n",
    "                  gridcolor=\"rgb(255, 255, 255)\",      \n",
    "                  zerolinecolor=\"rgb(255, 255, 255)\")"
   ]
  },
  {
   "cell_type": "code",
   "execution_count": 6,
   "metadata": {},
   "outputs": [],
   "source": [
    "tr=go.Surface(x=x,\n",
    "           y=y,\n",
    "           z=z, \n",
    "           colorscale=balance,\n",
    "           showscale=False,   \n",
    "           #colorbar=dict(thickness=20, ticklen=4, len=0.6),\n",
    "           lighting=dict(ambient=0.5,\n",
    "                         diffuse=1,\n",
    "                         fresnel=4,\n",
    "                                    \n",
    "                         specular=0.5,\n",
    "                         roughness=0.5\n",
    "                        ),\n",
    "                 lightposition=dict(x=100,\n",
    "                                    y=100,\n",
    "                                    z=1000)\n",
    "          )\n",
    "\n",
    "x_eye, y_eye, z_eye=1.25,1.25,0.8                             \n",
    "layout=dict(title='Camera eye rotation',\n",
    "            width=800,\n",
    "            height=800, \n",
    "            autosize=False,\n",
    "            scene=dict(camera=dict(eye=dict(x=x_eye, y=y_eye, z=z_eye)),\n",
    "                       xaxis=axes_style,\n",
    "                       yaxis=axes_style,\n",
    "                       zaxis=axes_style,\n",
    "                       aspectratio=dict(x=1,\n",
    "                                        y=1,\n",
    "                                        z=0.35)\n",
    "                                        )                        \n",
    "                                     )\n",
    "                                      "
   ]
  },
  {
   "cell_type": "code",
   "execution_count": 7,
   "metadata": {},
   "outputs": [],
   "source": [
    "fw=go.FigureWidget(data=[tr], layout=layout)"
   ]
  },
  {
   "cell_type": "markdown",
   "metadata": {},
   "source": [
    "Animate the rotation of the camera eye about Oz:"
   ]
  },
  {
   "cell_type": "code",
   "execution_count": 8,
   "metadata": {},
   "outputs": [],
   "source": [
    "import ipywidgets as iw\n",
    "slider = iw.IntSlider(value=0, min=0, max=180, step=2, description='rotation angle')\n",
    "slider.layout=dict(margin='100px 80px 40px 5px', width='500px')#margin describes top, right, bottom, left"
   ]
  },
  {
   "cell_type": "code",
   "execution_count": 9,
   "metadata": {},
   "outputs": [],
   "source": [
    "def angle_changed(change):\n",
    "    theta = np.pi*slider.value/180\n",
    "    xe, ye, ze=rotate_z(x_eye, y_eye, z_eye, -theta)\n",
    "    fw.layout.scene.camera.eye=dict(x=xe, y=ye, z=ze)\n",
    "\n",
    "slider.observe(angle_changed, 'value')"
   ]
  },
  {
   "cell_type": "code",
   "execution_count": 10,
   "metadata": {},
   "outputs": [
    {
     "data": {
      "application/vnd.jupyter.widget-view+json": {
       "model_id": "91792bb8bb1e4c0a8b846cbe4c73f3bd",
       "version_major": 2,
       "version_minor": 0
      },
      "text/plain": [
       "VBox(children=(HBox(children=(Play(value=0, description='Play', layout=Layout(margin='100px 10px 50px 100px'),…"
      ]
     },
     "metadata": {},
     "output_type": "display_data"
    }
   ],
   "source": [
    "play_button = iw.Play(value=0, min=0, max=180, step=2, description=\"Play\")\n",
    "play_button.layout=dict(margin='100px 10px 50px 100px')\n",
    "iw.link((play_button, 'value'), (slider, 'value'))\n",
    "iw.VBox([iw.HBox([play_button, slider]), fw])"
   ]
  },
  {
   "cell_type": "code",
   "execution_count": null,
   "metadata": {},
   "outputs": [],
   "source": []
  },
  {
   "cell_type": "code",
   "execution_count": null,
   "metadata": {},
   "outputs": [],
   "source": []
  }
 ],
 "metadata": {
  "kernelspec": {
   "display_name": "Python [conda env:python36]",
   "language": "python",
   "name": "conda-env-python36-py"
  },
  "language_info": {
   "codemirror_mode": {
    "name": "ipython",
    "version": 3
   },
   "file_extension": ".py",
   "mimetype": "text/x-python",
   "name": "python",
   "nbconvert_exporter": "python",
   "pygments_lexer": "ipython3",
   "version": "3.6.4"
  }
 },
 "nbformat": 4,
 "nbformat_minor": 2
}
