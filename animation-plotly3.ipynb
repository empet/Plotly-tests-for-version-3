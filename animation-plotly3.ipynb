{
 "cells": [
  {
   "cell_type": "markdown",
   "metadata": {},
   "source": [
    "## <center>Plotly 3.0.0rc11<br> Animation with data and layout updates"
   ]
  },
  {
   "cell_type": "code",
   "execution_count": null,
   "metadata": {},
   "outputs": [],
   "source": [
    "import numpy as np\n",
    "import plotly.graph_objs as go"
   ]
  },
  {
   "cell_type": "code",
   "execution_count": null,
   "metadata": {},
   "outputs": [],
   "source": [
    "from plotly.offline import download_plotlyjs, init_notebook_mode,  iplot, plot\n",
    "init_notebook_mode(connected=True)"
   ]
  },
  {
   "cell_type": "code",
   "execution_count": null,
   "metadata": {},
   "outputs": [],
   "source": [
    "test_data=np.random.randint(25, 100, (24, 31))\n",
    "\n",
    "ymin=test_data.min()\n",
    "ymax=test_data.max()"
   ]
  },
  {
   "cell_type": "code",
   "execution_count": null,
   "metadata": {},
   "outputs": [],
   "source": [
    "fig=go.Figure(data=[dict(type='scatter',\n",
    "                         x=list(range(24)),\n",
    "                         y=test_data[:0],\n",
    "                         mode='markers+lines',\n",
    "                         marker=dict(size=10, color='red') ,\n",
    "                         line=dict(width=1.5, color='blue')\n",
    "                          )], \n",
    "              layout=dict()\n",
    "             )\n",
    " "
   ]
  },
  {
   "cell_type": "code",
   "execution_count": null,
   "metadata": {},
   "outputs": [],
   "source": [
    "axis_style=dict(showline=True,\n",
    "               mirror=True,\n",
    "               zeroline=False,\n",
    "               ticklen=4)"
   ]
  },
  {
   "cell_type": "code",
   "execution_count": null,
   "metadata": {},
   "outputs": [],
   "source": [
    "sliders=[dict(steps= [dict(method= 'animate',\n",
    "                           args= [[ f'{k+1}'],\n",
    "                                  dict(mode= 'immediate',\n",
    "                                  frame= dict(duration=200, redraw= False ),\n",
    "                                           transition=dict( duration= 0)\n",
    "                                          )\n",
    "                                    ],\n",
    "                            label=f'day {k+1}'\n",
    "                             ) for k in range(31)], \n",
    "                transition= dict(duration= 30 ),\n",
    "                x=0,#slider starting position  \n",
    "                y=0, \n",
    "                currentvalue=dict(font=dict(size=12), \n",
    "                                  prefix='', \n",
    "                                  visible=True, \n",
    "                                  xanchor= 'center'\n",
    "                                 ),  \n",
    "                len=1.0)#slider length)\n",
    "           ]\n",
    "\n",
    "updatemenus=[dict(type='buttons', showactive=False,\n",
    "                                y=0,\n",
    "                                x=1.15,\n",
    "                                xanchor='right',\n",
    "                                yanchor='top',\n",
    "                                pad=dict(t=0, r=10),\n",
    "                                buttons=[dict(label='Play',\n",
    "                                              method='animate',\n",
    "                                              args=[None, \n",
    "                                                    dict(frame=dict(duration=200, \n",
    "                                                                    redraw=False),\n",
    "                                                         transition=dict(duration=100),\n",
    "                                                         fromcurrent=True,\n",
    "                                                         mode='immediate'\n",
    "                                                        )\n",
    "                                                   ]\n",
    "                                             )\n",
    "                                        ]\n",
    "                               )\n",
    "                          ]\n"
   ]
  },
  {
   "cell_type": "code",
   "execution_count": null,
   "metadata": {},
   "outputs": [],
   "source": [
    "with fig.batch_update():\n",
    "    fig.layout.xaxis=dict(axis_style, **dict(range=[0,24]))\n",
    "    fig.layout.yaxis=dict(axis_style, **dict(range=[ymin-1, ymax+1], autorange=False))\n",
    "    fig.layout.sliders=sliders\n",
    "    fig.layout.updatemenus=updatemenus\n",
    "    fig.frames=[dict(data=[dict(y=test_data[:,k])],\n",
    "                    traces=[0],\n",
    "                    name=f'{k+1}') for k in range(31)]\n",
    "    for k in range(len(fig.frames)):# I inserted this <for loop> only to see if it works, and it does!!!!!!!\n",
    "                                    #otherwise I could insert the layout dict in the initial fig.frames definition\n",
    "        fig.frames[k].layout=dict(yaxis=dict(range=[test_data[:, k].min()-1, test_data[:, k].max()+1])) "
   ]
  },
  {
   "cell_type": "code",
   "execution_count": null,
   "metadata": {},
   "outputs": [],
   "source": [
    "fig.frames[:2]"
   ]
  },
  {
   "cell_type": "markdown",
   "metadata": {},
   "source": [
    "Since frames are not supported by the `plotly.graph_objs.FigureWidget` class, we   plot the fig via `plotly.offline.iplot`\n",
    "or send it to Plotly cloud."
   ]
  },
  {
   "cell_type": "code",
   "execution_count": null,
   "metadata": {},
   "outputs": [],
   "source": [
    "iplot(fig)"
   ]
  },
  {
   "cell_type": "code",
   "execution_count": null,
   "metadata": {},
   "outputs": [],
   "source": []
  }
 ],
 "metadata": {
  "kernelspec": {
   "display_name": "Python 3",
   "language": "python",
   "name": "python3"
  },
  "language_info": {
   "codemirror_mode": {
    "name": "ipython",
    "version": 3
   },
   "file_extension": ".py",
   "mimetype": "text/x-python",
   "name": "python",
   "nbconvert_exporter": "python",
   "pygments_lexer": "ipython3",
   "version": "3.6.4"
  }
 },
 "nbformat": 4,
 "nbformat_minor": 2
}
