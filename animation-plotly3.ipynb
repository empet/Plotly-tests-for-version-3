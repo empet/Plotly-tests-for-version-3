{
 "cells": [
  {
   "cell_type": "markdown",
   "metadata": {},
   "source": [
    "## <center>Plotly 3.+ Animation "
   ]
  },
  {
   "cell_type": "code",
   "execution_count": 1,
   "metadata": {},
   "outputs": [],
   "source": [
    "import numpy as np\n",
    "import plotly.graph_objs as go"
   ]
  },
  {
   "cell_type": "code",
   "execution_count": 2,
   "metadata": {},
   "outputs": [],
   "source": [
    "test_data=np.random.randint(25, 100, (24, 31))\n",
    "\n",
    "ymin=test_data.min()\n",
    "ymax=test_data.max()"
   ]
  },
  {
   "cell_type": "code",
   "execution_count": 3,
   "metadata": {},
   "outputs": [],
   "source": [
    "fw=go.FigureWidget(data=[dict(type='scatter',\n",
    "                         x=list(range(24)),\n",
    "                         y=list(test_data[:,0]),\n",
    "                         mode='markers+lines',\n",
    "                         marker=dict(size=10, \n",
    "                                     color='red') ,\n",
    "                        line=dict(width=1.5, \n",
    "                                  color='blue')\n",
    "                             )], \n",
    "              layout=dict()\n",
    "             ) "
   ]
  },
  {
   "cell_type": "code",
   "execution_count": 4,
   "metadata": {},
   "outputs": [],
   "source": [
    "axis_style=dict(showline=True,\n",
    "                mirror=True,\n",
    "                zeroline=False,\n",
    "                ticklen=4)"
   ]
  },
  {
   "cell_type": "code",
   "execution_count": 5,
   "metadata": {},
   "outputs": [],
   "source": [
    "with fw.batch_update():\n",
    "    fw.layout.update(title='Hourly values changed daily')\n",
    "    fw.layout.xaxis=dict(axis_style, **dict(dtick=2, range=[0,24]))\n",
    "    fw.layout.yaxis=dict(axis_style, **dict(range=[ymin-1, ymax+1]))"
   ]
  },
  {
   "cell_type": "code",
   "execution_count": 6,
   "metadata": {},
   "outputs": [],
   "source": [
    "import ipywidgets as iw\n",
    "slider = iw.IntSlider(value=1, min=1, max=31, step=1, description='Day')\n",
    "slider.layout=dict(margin='20px 80px 40px 5px', width='700px')#margin describes top, right, bottom, left distances\n",
    "                                                              #from slider to plot"
   ]
  },
  {
   "cell_type": "code",
   "execution_count": 7,
   "metadata": {},
   "outputs": [],
   "source": [
    "def day_changed(change):\n",
    "    fw.data[0].y=test_data[:,slider.value]\n",
    "    \n",
    "slider.observe(day_changed, 'value')"
   ]
  },
  {
   "cell_type": "code",
   "execution_count": 8,
   "metadata": {},
   "outputs": [
    {
     "data": {
      "application/vnd.jupyter.widget-view+json": {
       "model_id": "ef88e3714b274812910e0218f6748b91",
       "version_major": 2,
       "version_minor": 0
      },
      "text/plain": [
       "VBox(children=(FigureWidget({\n",
       "    'data': [{'line': {'color': 'blue', 'width': 1.5},\n",
       "              'marker': {…"
      ]
     },
     "metadata": {},
     "output_type": "display_data"
    }
   ],
   "source": [
    "play_button = iw.Play(value=1, min=1, max=31,  interval=225)\n",
    "play_button.layout=dict(margin='20px 10px 50px 100px')\n",
    "iw.link((play_button, 'value'), (slider, 'value'))\n",
    "iw.VBox([fw, iw.HBox([play_button, slider])])"
   ]
  },
  {
   "cell_type": "code",
   "execution_count": null,
   "metadata": {},
   "outputs": [],
   "source": []
  }
 ],
 "metadata": {
  "kernelspec": {
   "display_name": "Python 3",
   "language": "python",
   "name": "python3"
  },
  "language_info": {
   "codemirror_mode": {
    "name": "ipython",
    "version": 3
   },
   "file_extension": ".py",
   "mimetype": "text/x-python",
   "name": "python",
   "nbconvert_exporter": "python",
   "pygments_lexer": "ipython3",
   "version": "3.6.4"
  },
  "widgets": {
   "application/vnd.jupyter.widget-state+json": {
    "state": {
     "01406ddcd7f140fda99314a14b5cc564": {
      "model_module": "@jupyter-widgets/controls",
      "model_module_version": "1.2.0",
      "model_name": "DescriptionStyleModel",
      "state": {
       "description_width": ""
      }
     },
     "07313fc9befb4a739f786f4f6fecce92": {
      "buffers": [
       {
        "data": "AAAAAAAASkAAAAAAAMBUQAAAAAAAADpAAAAAAACAVEAAAAAAAABGQAAAAAAAAElAAAAAAAAAPEAAAAAAAMBRQAAAAAAAAFNAAAAAAABAUkAAAAAAAEBXQAAAAAAAgFFAAAAAAABAVEAAAAAAAIBLQAAAAAAAgEJAAAAAAACAQkAAAAAAAABAQAAAAAAAQFNAAAAAAAAAUkAAAAAAAMBQQAAAAAAAAEhAAAAAAAAAS0AAAAAAAAA7QAAAAAAAAERA",
        "encoding": "base64",
        "path": [
         "_data",
         0,
         "y"
        ]
       }
      ],
      "model_module": "plotlywidget",
      "model_module_version": "^0.2.1",
      "model_name": "FigureModel",
      "state": {
       "_data": [
        {
         "line": {
          "color": "blue",
          "width": 1.5
         },
         "marker": {
          "color": "red",
          "size": 10
         },
         "mode": "markers+lines",
         "type": "scatter",
         "uid": "79ee83ca-a2c0-11e8-b8d4-e377df750c87",
         "x": [
          0,
          1,
          2,
          3,
          4,
          5,
          6,
          7,
          8,
          9,
          10,
          11,
          12,
          13,
          14,
          15,
          16,
          17,
          18,
          19,
          20,
          21,
          22,
          23
         ]
        }
       ],
       "_js2py_layoutDelta": {},
       "_js2py_pointsCallback": {},
       "_js2py_relayout": {},
       "_js2py_restyle": {},
       "_js2py_traceDeltas": {},
       "_js2py_update": {},
       "_py2js_addTraces": {},
       "_py2js_animate": {},
       "_py2js_deleteTraces": {},
       "_py2js_moveTraces": {},
       "_py2js_relayout": {},
       "_py2js_removeLayoutProps": {},
       "_py2js_removeTraceProps": {},
       "_py2js_restyle": {},
       "_py2js_update": {},
       "_view_count": 0
      }
     },
     "0c08ade54a8842b994e23562d6b6f4e8": {
      "model_module": "@jupyter-widgets/controls",
      "model_module_version": "1.2.0",
      "model_name": "PlayModel",
      "state": {
       "interval": 225,
       "layout": "IPY_MODEL_dc95c882dd6a4b4797e8d8597943b362",
       "max": 31,
       "min": 1,
       "style": "IPY_MODEL_01406ddcd7f140fda99314a14b5cc564",
       "value": 1
      }
     },
     "1b31157d1d2d4924a3201268ca3d4a50": {
      "model_module": "@jupyter-widgets/base",
      "model_module_version": "1.0.0",
      "model_name": "LayoutModel",
      "state": {}
     },
     "1bdfbee0b34d431ba136fc40cda1dbc3": {
      "model_module": "@jupyter-widgets/controls",
      "model_module_version": "1.2.0",
      "model_name": "HBoxModel",
      "state": {
       "children": [
        "IPY_MODEL_b44d183db62747848e59b5f686422b22",
        "IPY_MODEL_9e6ead80c36d484292c7ab32af8c084f"
       ],
       "layout": "IPY_MODEL_9f4595a1c8274b8d8eb2a0fbd236f8d7"
      }
     },
     "1d29f8a574234c8996eeacc8baeab855": {
      "model_module": "@jupyter-widgets/controls",
      "model_module_version": "1.2.0",
      "model_name": "HBoxModel",
      "state": {
       "children": [
        "IPY_MODEL_958d7861288b4daba81249719c73d668",
        "IPY_MODEL_2544c5d159764f0eb8dec16d93f709e5"
       ],
       "layout": "IPY_MODEL_9d2d9b0e651c4913bbaf394908b36f0e"
      }
     },
     "1f1a1811d5944b5fb2d781ad1828ee44": {
      "buffers": [
       {
        "data": "AAAAAACAREAAAAAAAIBYQAAAAAAAwFVAAAAAAAAAQkAAAAAAAIBYQAAAAAAAgEtAAAAAAADAVUAAAAAAAIBLQAAAAAAAQFRAAAAAAACATEAAAAAAAABEQAAAAAAAgFdAAAAAAAAATEAAAAAAAABWQAAAAAAAQFJAAAAAAAAAVEAAAAAAAIBTQAAAAAAAADtAAAAAAACAWEAAAAAAAIBKQAAAAAAAgFZAAAAAAADAUUAAAAAAAIBUQAAAAAAAgEhA",
        "encoding": "base64",
        "path": [
         "_data",
         0,
         "y"
        ]
       }
      ],
      "model_module": "plotlywidget",
      "model_module_version": "^0.2.1",
      "model_name": "FigureModel",
      "state": {
       "_data": [
        {
         "line": {
          "color": "blue",
          "width": 1.5
         },
         "marker": {
          "color": "red",
          "size": 10
         },
         "mode": "markers+lines",
         "type": "scatter",
         "uid": "88cb96fa-a2c0-11e8-a231-e377df750c87",
         "x": [
          0,
          1,
          2,
          3,
          4,
          5,
          6,
          7,
          8,
          9,
          10,
          11,
          12,
          13,
          14,
          15,
          16,
          17,
          18,
          19,
          20,
          21,
          22,
          23
         ]
        }
       ],
       "_js2py_restyle": {},
       "_js2py_update": {},
       "_last_layout_edit_id": 33,
       "_last_trace_edit_id": 32,
       "_layout": {
        "autosize": true,
        "title": "Hourly values changed daily",
        "xaxis": {
         "dtick": 2,
         "mirror": true,
         "range": [
          0,
          24
         ],
         "showline": true,
         "ticklen": 4,
         "zeroline": false
        },
        "yaxis": {
         "mirror": true,
         "range": [
          24,
          100
         ],
         "showline": true,
         "ticklen": 4,
         "zeroline": false
        }
       },
       "_py2js_addTraces": {},
       "_py2js_deleteTraces": {},
       "_py2js_moveTraces": {},
       "_py2js_removeLayoutProps": {},
       "_py2js_removeTraceProps": {},
       "_py2js_restyle": {},
       "_view_count": 0
      }
     },
     "22e571d7b61b44b79818eb3a29520843": {
      "model_module": "@jupyter-widgets/base",
      "model_module_version": "1.0.0",
      "model_name": "LayoutModel",
      "state": {}
     },
     "2544c5d159764f0eb8dec16d93f709e5": {
      "model_module": "@jupyter-widgets/controls",
      "model_module_version": "1.2.0",
      "model_name": "IntSliderModel",
      "state": {
       "description": "Day",
       "layout": "IPY_MODEL_7b0c4620bc9e42629fe2ff12dba1d808",
       "max": 31,
       "min": 1,
       "style": "IPY_MODEL_babfe62a60b44e4390628e717acd6223",
       "value": 1
      }
     },
     "31408e6c8c674f2b88f63d556b5c18bc": {
      "model_module": "@jupyter-widgets/base",
      "model_module_version": "1.0.0",
      "model_name": "LayoutModel",
      "state": {
       "margin": "20px 10px 50px 100px"
      }
     },
     "3caeaf08ae344bfc81d6e64d00be69e7": {
      "model_module": "@jupyter-widgets/base",
      "model_module_version": "1.0.0",
      "model_name": "LayoutModel",
      "state": {}
     },
     "3e94c8c75e814c2abaa4e6b2ba0f8a1d": {
      "model_module": "@jupyter-widgets/controls",
      "model_module_version": "1.2.0",
      "model_name": "DescriptionStyleModel",
      "state": {
       "description_width": ""
      }
     },
     "40dbb277a0fd42bdb50881290c20bbb6": {
      "model_module": "@jupyter-widgets/controls",
      "model_module_version": "1.2.0",
      "model_name": "PlayModel",
      "state": {
       "interval": 225,
       "layout": "IPY_MODEL_5316742d2cb847eebabb539529fc3758",
       "max": 31,
       "min": 1,
       "style": "IPY_MODEL_62f9290329fd40498e49b766f9925759",
       "value": 7
      }
     },
     "456786e2b31a47c9b4c6749495e3787d": {
      "model_module": "@jupyter-widgets/controls",
      "model_module_version": "1.2.0",
      "model_name": "VBoxModel",
      "state": {
       "children": [
        "IPY_MODEL_81e81b6a44104fabb40470345567551d",
        "IPY_MODEL_af2db7b2137d4fd19ea7864515c94bb1"
       ],
       "layout": "IPY_MODEL_bb0aa66815b9444abbeef80c118d6c8c"
      }
     },
     "4726f3bb6cca4f52b50ef0851a48960f": {
      "model_module": "@jupyter-widgets/base",
      "model_module_version": "1.0.0",
      "model_name": "LayoutModel",
      "state": {}
     },
     "4af460d76ea84e4da466842d11e3533d": {
      "model_module": "@jupyter-widgets/base",
      "model_module_version": "1.0.0",
      "model_name": "LayoutModel",
      "state": {
       "margin": "20px 80px 40px 5px",
       "width": "700px"
      }
     },
     "4f43c54bf08e4bda998f408902c24e85": {
      "model_module": "@jupyter-widgets/controls",
      "model_module_version": "1.2.0",
      "model_name": "IntSliderModel",
      "state": {
       "description": "Day",
       "layout": "IPY_MODEL_4af460d76ea84e4da466842d11e3533d",
       "max": 31,
       "min": 1,
       "style": "IPY_MODEL_77bb5e005e6d4f84a10c92ce00d3ec63",
       "value": 7
      }
     },
     "5316742d2cb847eebabb539529fc3758": {
      "model_module": "@jupyter-widgets/base",
      "model_module_version": "1.0.0",
      "model_name": "LayoutModel",
      "state": {
       "margin": "20px 10px 50px 100px"
      }
     },
     "55434daab877456e9e588662a2721da0": {
      "model_module": "@jupyter-widgets/controls",
      "model_module_version": "1.2.0",
      "model_name": "DescriptionStyleModel",
      "state": {
       "description_width": ""
      }
     },
     "55e12ae7c2e34191932728de14fc310b": {
      "model_module": "@jupyter-widgets/controls",
      "model_module_version": "1.2.0",
      "model_name": "VBoxModel",
      "state": {
       "children": [
        "IPY_MODEL_1f1a1811d5944b5fb2d781ad1828ee44",
        "IPY_MODEL_1d29f8a574234c8996eeacc8baeab855"
       ],
       "layout": "IPY_MODEL_88066a51a5c043f1b707dd34b937c2bd"
      }
     },
     "58c89b2357404c368d6750fe2323bcac": {
      "model_module": "@jupyter-widgets/base",
      "model_module_version": "1.0.0",
      "model_name": "LayoutModel",
      "state": {}
     },
     "5a94e3ba65284916a5bf351b7e2bb197": {
      "model_module": "@jupyter-widgets/base",
      "model_module_version": "1.0.0",
      "model_name": "LayoutModel",
      "state": {}
     },
     "62f9290329fd40498e49b766f9925759": {
      "model_module": "@jupyter-widgets/controls",
      "model_module_version": "1.2.0",
      "model_name": "DescriptionStyleModel",
      "state": {
       "description_width": ""
      }
     },
     "6dbba637ab61437d9200bb05b877f20a": {
      "model_module": "@jupyter-widgets/controls",
      "model_module_version": "1.2.0",
      "model_name": "SliderStyleModel",
      "state": {
       "description_width": ""
      }
     },
     "77bb5e005e6d4f84a10c92ce00d3ec63": {
      "model_module": "@jupyter-widgets/controls",
      "model_module_version": "1.2.0",
      "model_name": "SliderStyleModel",
      "state": {
       "description_width": ""
      }
     },
     "7b0c4620bc9e42629fe2ff12dba1d808": {
      "model_module": "@jupyter-widgets/base",
      "model_module_version": "1.0.0",
      "model_name": "LayoutModel",
      "state": {
       "margin": "20px 80px 40px 5px",
       "width": "700px"
      }
     },
     "81e81b6a44104fabb40470345567551d": {
      "buffers": [
       {
        "data": "AAAAAACAWEAAAAAAAABIQAAAAAAAwFZAAAAAAACAR0AAAAAAAABPQAAAAAAAgEVAAAAAAACASUAAAAAAAIBJQAAAAAAAADxAAAAAAACASUAAAAAAAAA/QAAAAAAAgEdAAAAAAAAAQkAAAAAAAIBYQAAAAAAAADtAAAAAAACAU0AAAAAAAIBQQAAAAAAAQFBAAAAAAAAAWEAAAAAAAEBUQAAAAAAAgEBAAAAAAAAAVEAAAAAAAABCQAAAAAAAgFhA",
        "encoding": "base64",
        "path": [
         "_data",
         0,
         "y"
        ]
       }
      ],
      "model_module": "plotlywidget",
      "model_module_version": "^0.2.1",
      "model_name": "FigureModel",
      "state": {
       "_data": [
        {
         "line": {
          "color": "blue",
          "width": 1.5
         },
         "marker": {
          "color": "red",
          "size": 10
         },
         "mode": "markers+lines",
         "type": "scatter",
         "uid": "b3f5b6c0-a2c0-11e8-acbc-e377df750c87",
         "x": [
          0,
          1,
          2,
          3,
          4,
          5,
          6,
          7,
          8,
          9,
          10,
          11,
          12,
          13,
          14,
          15,
          16,
          17,
          18,
          19,
          20,
          21,
          22,
          23
         ]
        }
       ],
       "_js2py_restyle": {},
       "_js2py_update": {},
       "_last_layout_edit_id": 32,
       "_last_trace_edit_id": 31,
       "_layout": {
        "autosize": true,
        "title": "Hourly values changed daily",
        "xaxis": {
         "dtick": 2,
         "mirror": true,
         "range": [
          0,
          24
         ],
         "showline": true,
         "ticklen": 4,
         "zeroline": false
        },
        "yaxis": {
         "mirror": true,
         "range": [
          24,
          100
         ],
         "showline": true,
         "ticklen": 4,
         "zeroline": false
        }
       },
       "_py2js_addTraces": {},
       "_py2js_animate": {},
       "_py2js_deleteTraces": {},
       "_py2js_moveTraces": {},
       "_py2js_removeLayoutProps": {},
       "_py2js_removeTraceProps": {},
       "_view_count": 0
      }
     },
     "88066a51a5c043f1b707dd34b937c2bd": {
      "model_module": "@jupyter-widgets/base",
      "model_module_version": "1.0.0",
      "model_name": "LayoutModel",
      "state": {}
     },
     "8c3b2a6eb2c64c419a44d6edbcfbad6c": {
      "model_module": "@jupyter-widgets/controls",
      "model_module_version": "1.2.0",
      "model_name": "HBoxModel",
      "state": {
       "children": [
        "IPY_MODEL_40dbb277a0fd42bdb50881290c20bbb6",
        "IPY_MODEL_4f43c54bf08e4bda998f408902c24e85"
       ],
       "layout": "IPY_MODEL_f0ae73aedf3c43a0b6e2333bb7f746d3"
      }
     },
     "91d96ad5617240b7b3d8d73fd3505c9d": {
      "model_module": "@jupyter-widgets/base",
      "model_module_version": "1.0.0",
      "model_name": "LayoutModel",
      "state": {}
     },
     "958d7861288b4daba81249719c73d668": {
      "model_module": "@jupyter-widgets/controls",
      "model_module_version": "1.2.0",
      "model_name": "PlayModel",
      "state": {
       "interval": 225,
       "layout": "IPY_MODEL_a883d983b2484b9a940ee0767ba0b1fa",
       "max": 31,
       "min": 1,
       "style": "IPY_MODEL_55434daab877456e9e588662a2721da0",
       "value": 1
      }
     },
     "968ee9cf6eeb49c48ff7eda81c4483ce": {
      "buffers": [
       {
        "data": "AAAAAAAASUAAAAAAAMBSQAAAAAAAgEpAAAAAAACAQEAAAAAAAIBJQAAAAAAAAFBAAAAAAABAV0AAAAAAAABLQAAAAAAAQFdAAAAAAAAARkAAAAAAAAA9QAAAAAAAAFhAAAAAAADAUkAAAAAAAIBKQAAAAAAAQFBAAAAAAABAUEAAAAAAAIBEQAAAAAAAAEFAAAAAAACASkAAAAAAAIBSQAAAAAAAwFNAAAAAAACAWEAAAAAAAABYQAAAAAAAAD5A",
        "encoding": "base64",
        "path": [
         "_data",
         0,
         "y"
        ]
       }
      ],
      "model_module": "plotlywidget",
      "model_module_version": "^0.2.1",
      "model_name": "FigureModel",
      "state": {
       "_data": [
        {
         "line": {
          "color": "blue",
          "width": 1.5
         },
         "marker": {
          "color": "red",
          "size": 10
         },
         "mode": "markers+lines",
         "type": "scatter",
         "uid": "99206174-a2c1-11e8-9da8-e377df750c87",
         "x": [
          0,
          1,
          2,
          3,
          4,
          5,
          6,
          7,
          8,
          9,
          10,
          11,
          12,
          13,
          14,
          15,
          16,
          17,
          18,
          19,
          20,
          21,
          22,
          23
         ]
        }
       ],
       "_js2py_pointsCallback": {},
       "_js2py_restyle": {},
       "_js2py_update": {},
       "_last_layout_edit_id": 8,
       "_last_trace_edit_id": 7,
       "_layout": {
        "autosize": true,
        "title": "Hourly values changed daily",
        "xaxis": {
         "dtick": 2,
         "mirror": true,
         "range": [
          0,
          24
         ],
         "showline": true,
         "ticklen": 4,
         "zeroline": false
        },
        "yaxis": {
         "mirror": true,
         "range": [
          24,
          100
         ],
         "showline": true,
         "ticklen": 4,
         "zeroline": false
        }
       },
       "_py2js_addTraces": {},
       "_py2js_animate": {},
       "_py2js_deleteTraces": {},
       "_py2js_moveTraces": {},
       "_py2js_removeLayoutProps": {},
       "_py2js_removeTraceProps": {},
       "_view_count": 1
      }
     },
     "99467c9ba39b429d9917095d4afc9109": {
      "model_module": "@jupyter-widgets/base",
      "model_module_version": "1.0.0",
      "model_name": "LayoutModel",
      "state": {}
     },
     "9bba82a30f10451b82979e8ae37c795d": {
      "model_module": "@jupyter-widgets/base",
      "model_module_version": "1.0.0",
      "model_name": "LayoutModel",
      "state": {}
     },
     "9d2d9b0e651c4913bbaf394908b36f0e": {
      "model_module": "@jupyter-widgets/base",
      "model_module_version": "1.0.0",
      "model_name": "LayoutModel",
      "state": {}
     },
     "9e6ead80c36d484292c7ab32af8c084f": {
      "model_module": "@jupyter-widgets/controls",
      "model_module_version": "1.2.0",
      "model_name": "IntSliderModel",
      "state": {
       "description": "Day",
       "layout": "IPY_MODEL_ac190115bb8143da9a6a8b973586e25c",
       "max": 31,
       "min": 1,
       "style": "IPY_MODEL_6dbba637ab61437d9200bb05b877f20a",
       "value": 1
      }
     },
     "9f4595a1c8274b8d8eb2a0fbd236f8d7": {
      "model_module": "@jupyter-widgets/base",
      "model_module_version": "1.0.0",
      "model_name": "LayoutModel",
      "state": {}
     },
     "a883d983b2484b9a940ee0767ba0b1fa": {
      "model_module": "@jupyter-widgets/base",
      "model_module_version": "1.0.0",
      "model_name": "LayoutModel",
      "state": {
       "margin": "20px 10px 50px 100px"
      }
     },
     "ac190115bb8143da9a6a8b973586e25c": {
      "model_module": "@jupyter-widgets/base",
      "model_module_version": "1.0.0",
      "model_name": "LayoutModel",
      "state": {
       "margin": "20px 80px 40px 5px",
       "width": "700px"
      }
     },
     "af2db7b2137d4fd19ea7864515c94bb1": {
      "model_module": "@jupyter-widgets/controls",
      "model_module_version": "1.2.0",
      "model_name": "HBoxModel",
      "state": {
       "children": [
        "IPY_MODEL_0c08ade54a8842b994e23562d6b6f4e8",
        "IPY_MODEL_9e6ead80c36d484292c7ab32af8c084f"
       ],
       "layout": "IPY_MODEL_22e571d7b61b44b79818eb3a29520843"
      }
     },
     "b44d183db62747848e59b5f686422b22": {
      "model_module": "@jupyter-widgets/controls",
      "model_module_version": "1.2.0",
      "model_name": "PlayModel",
      "state": {
       "interval": 225,
       "layout": "IPY_MODEL_31408e6c8c674f2b88f63d556b5c18bc",
       "max": 31,
       "min": 1,
       "style": "IPY_MODEL_3e94c8c75e814c2abaa4e6b2ba0f8a1d",
       "value": 1
      }
     },
     "babfe62a60b44e4390628e717acd6223": {
      "model_module": "@jupyter-widgets/controls",
      "model_module_version": "1.2.0",
      "model_name": "SliderStyleModel",
      "state": {
       "description_width": ""
      }
     },
     "bb0aa66815b9444abbeef80c118d6c8c": {
      "model_module": "@jupyter-widgets/base",
      "model_module_version": "1.0.0",
      "model_name": "LayoutModel",
      "state": {}
     },
     "c5427790f6be4dafb137eccfa2240cac": {
      "model_module": "@jupyter-widgets/base",
      "model_module_version": "1.0.0",
      "model_name": "LayoutModel",
      "state": {}
     },
     "cf1bca8947ac49d3a24bb5d795fe4041": {
      "model_module": "@jupyter-widgets/controls",
      "model_module_version": "1.2.0",
      "model_name": "VBoxModel",
      "state": {
       "children": [
        "IPY_MODEL_81e81b6a44104fabb40470345567551d",
        "IPY_MODEL_1bdfbee0b34d431ba136fc40cda1dbc3"
       ],
       "layout": "IPY_MODEL_91d96ad5617240b7b3d8d73fd3505c9d"
      }
     },
     "dc95c882dd6a4b4797e8d8597943b362": {
      "model_module": "@jupyter-widgets/base",
      "model_module_version": "1.0.0",
      "model_name": "LayoutModel",
      "state": {
       "margin": "20px 10px 50px 100px"
      }
     },
     "ef88e3714b274812910e0218f6748b91": {
      "model_module": "@jupyter-widgets/controls",
      "model_module_version": "1.2.0",
      "model_name": "VBoxModel",
      "state": {
       "children": [
        "IPY_MODEL_968ee9cf6eeb49c48ff7eda81c4483ce",
        "IPY_MODEL_8c3b2a6eb2c64c419a44d6edbcfbad6c"
       ],
       "layout": "IPY_MODEL_3caeaf08ae344bfc81d6e64d00be69e7"
      }
     },
     "f0ae73aedf3c43a0b6e2333bb7f746d3": {
      "model_module": "@jupyter-widgets/base",
      "model_module_version": "1.0.0",
      "model_name": "LayoutModel",
      "state": {}
     }
    },
    "version_major": 2,
    "version_minor": 0
   }
  }
 },
 "nbformat": 4,
 "nbformat_minor": 2
}
