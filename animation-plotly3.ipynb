{
 "cells": [
  {
   "cell_type": "markdown",
   "metadata": {},
   "source": [
    "## <center>Plotly 3.0.0 Animation "
   ]
  },
  {
   "cell_type": "code",
   "execution_count": 1,
   "metadata": {},
   "outputs": [],
   "source": [
    "import numpy as np\n",
    "import plotly.graph_objs as go\n",
    "from plotly.graph_objs import FigureWidget"
   ]
  },
  {
   "cell_type": "code",
   "execution_count": 2,
   "metadata": {},
   "outputs": [],
   "source": [
    "test_data=np.random.randint(25, 100, (24, 31))\n",
    "\n",
    "ymin=test_data.min()\n",
    "ymax=test_data.max()"
   ]
  },
  {
   "cell_type": "code",
   "execution_count": 3,
   "metadata": {},
   "outputs": [],
   "source": [
    "fig=go.Figure(data=[dict(type='scatter',\n",
    "                         x=list(range(24)),\n",
    "                         y=test_data[:,0],\n",
    "                         mode='markers+lines',\n",
    "                         marker=dict(size=10, color='red') ,\n",
    "                         line=dict(width=1.5, color='blue')\n",
    "                          )], \n",
    "              layout=dict()\n",
    "             )\n",
    " "
   ]
  },
  {
   "cell_type": "code",
   "execution_count": 4,
   "metadata": {},
   "outputs": [],
   "source": [
    "axis_style=dict(showline=True,\n",
    "               mirror=True,\n",
    "               zeroline=False,\n",
    "               ticklen=4)"
   ]
  },
  {
   "cell_type": "code",
   "execution_count": 5,
   "metadata": {},
   "outputs": [],
   "source": [
    "with fig.batch_update():\n",
    "    fig.layout.title='Hourly values changed daily'\n",
    "    fig.layout.xaxis=dict(axis_style, **dict(dtick=2, range=[0,24]))\n",
    "    fig.layout.yaxis=dict(axis_style, **dict(range=[ymin-1, ymax+1]))"
   ]
  },
  {
   "cell_type": "code",
   "execution_count": 6,
   "metadata": {},
   "outputs": [
    {
     "data": {
      "application/vnd.jupyter.widget-view+json": {
       "model_id": "6f6b7cf1340f4b9994e7622ec74e3446",
       "version_major": 2,
       "version_minor": 0
      },
      "text/plain": [
       "FigureWidget({\n",
       "    'data': [{'line': {'color': 'blue', 'width': 1.5},\n",
       "              'marker': {'color': 'red',…"
      ]
     },
     "metadata": {},
     "output_type": "display_data"
    }
   ],
   "source": [
    "fw=go.FigureWidget(fig)\n",
    "fw"
   ]
  },
  {
   "cell_type": "code",
   "execution_count": 15,
   "metadata": {},
   "outputs": [],
   "source": [
    "import ipywidgets as iw\n",
    "slider = iw.IntSlider(value=1, min=1, max=31, step=1, description='Day')\n",
    "slider.layout=dict(margin='100px 80px 40px 5px', width='700px')#margin describes top, right, bottom, left"
   ]
  },
  {
   "cell_type": "code",
   "execution_count": 16,
   "metadata": {},
   "outputs": [],
   "source": [
    "def day_changed(change):\n",
    "    fw.data[0].y=test_data[:,slider.value]\n",
    "    \n",
    "slider.observe(day_changed, 'value')"
   ]
  },
  {
   "cell_type": "code",
   "execution_count": 22,
   "metadata": {},
   "outputs": [
    {
     "data": {
      "application/vnd.jupyter.widget-view+json": {
       "model_id": "aee3462842294a05a765158520e106f8",
       "version_major": 2,
       "version_minor": 0
      },
      "text/plain": [
       "VBox(children=(HBox(children=(Play(value=1, interval=225, layout=Layout(margin='100px 10px 50px 100px'), max=3…"
      ]
     },
     "metadata": {},
     "output_type": "display_data"
    }
   ],
   "source": [
    "play_button = iw.Play(value=0, min=1, max=31,  interval=225)\n",
    "play_button.layout=dict(margin='100px 10px 50px 100px')\n",
    "iw.link((play_button, 'value'), (slider, 'value'))\n",
    "iw.VBox([iw.HBox([play_button, slider]), fw])"
   ]
  },
  {
   "cell_type": "markdown",
   "metadata": {},
   "source": [
    "or simply without slider:"
   ]
  },
  {
   "cell_type": "code",
   "execution_count": 21,
   "metadata": {},
   "outputs": [],
   "source": [
    "for k in range(31):\n",
    "    with fw.batch_animate(duration=300):\n",
    "        fw.data[0].y=test_data[:,k]"
   ]
  },
  {
   "cell_type": "code",
   "execution_count": null,
   "metadata": {},
   "outputs": [],
   "source": []
  }
 ],
 "metadata": {
  "kernelspec": {
   "display_name": "Python [conda env:python36]",
   "language": "python",
   "name": "conda-env-python36-py"
  },
  "language_info": {
   "codemirror_mode": {
    "name": "ipython",
    "version": 3
   },
   "file_extension": ".py",
   "mimetype": "text/x-python",
   "name": "python",
   "nbconvert_exporter": "python",
   "pygments_lexer": "ipython3",
   "version": "3.6.4"
  }
 },
 "nbformat": 4,
 "nbformat_minor": 2
}
