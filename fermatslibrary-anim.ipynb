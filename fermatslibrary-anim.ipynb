{
 "cells": [
  {
   "cell_type": "markdown",
   "metadata": {},
   "source": [
    "## <center>Classic Plotly animation vs animation with ipywidgets </center>##"
   ]
  },
  {
   "cell_type": "markdown",
   "metadata": {},
   "source": [
    "We reproduce here the animation illustrated in a gif file shared bt Fermat's Library (@fermatslibrary) on twitter\n",
    " [https://twitter.com/fermatslibrary/status/1040951633692319744](https://twitter.com/fermatslibrary/status/1040951633692319744).\n",
    " \n",
    "Let us describe what is observed in that gif: An inner circle of radius r, with 8 fixed points is rolling inside a base circle of radius R=2r.\n",
    "\n",
    "Let us fix $R=1$. Then the white rays intersect the base circle  at the points representing the $16^{th}$ roots of the unity. \n",
    "Let us say that at the time t=0, the rolling circle, containing eight marked dots, has the center at $(0.5, 0)$. Hence the dots can be given as points in the  complex plane:    $u[k]=0.5+0.5\\cdot e^{2\\pi j k/8}$, $k=\\overline{0,7}$ (where $e^{2\\pi j k/8}$ are the $8^{th}$ roots of  unity). \n",
    "\n",
    "The $m^{th}$ frame of the animation displays  the position of  the dots obtained from the initial ones, as follows:\n",
    "  - rotate the center c=0.5+0j about O, by $\\theta_m=2 m \\pi/16$ and get the new center $c_m$;\n",
    "  - place  on the circle of center $c_m$ and radius r=1/2, the points corresponding to $u[k]-r$,  rotated about O with $-\\theta_m$, i.e.  plot the dots $w[k]=e^{m\\pi j/8}\\: c+e^{-m\\pi j/8}\\:(u[k]-r)$, $k=\\overline{0,7}$"
   ]
  },
  {
   "cell_type": "code",
   "execution_count": 1,
   "metadata": {},
   "outputs": [
    {
     "data": {
      "text/plain": [
       "'3.2.1'"
      ]
     },
     "execution_count": 1,
     "metadata": {},
     "output_type": "execute_result"
    }
   ],
   "source": [
    "import plotly\n",
    "plotly.__version__"
   ]
  },
  {
   "cell_type": "code",
   "execution_count": 2,
   "metadata": {},
   "outputs": [
    {
     "data": {
      "text/html": [
       "<script>requirejs.config({paths: { 'plotly': ['https://cdn.plot.ly/plotly-latest.min']},});if(!window.Plotly) {{require(['plotly'],function(plotly) {window.Plotly=plotly;});}}</script>"
      ],
      "text/vnd.plotly.v1+html": [
       "<script>requirejs.config({paths: { 'plotly': ['https://cdn.plot.ly/plotly-latest.min']},});if(!window.Plotly) {{require(['plotly'],function(plotly) {window.Plotly=plotly;});}}</script>"
      ]
     },
     "metadata": {},
     "output_type": "display_data"
    }
   ],
   "source": [
    "from plotly.offline import download_plotlyjs, init_notebook_mode,  iplot, plot\n",
    "init_notebook_mode(connected=True)"
   ]
  },
  {
   "cell_type": "code",
   "execution_count": 3,
   "metadata": {},
   "outputs": [],
   "source": [
    "import numpy as np\n",
    "from numpy import pi\n",
    "import plotly.graph_objs as go\n",
    "import ipywidgets as ipw"
   ]
  },
  {
   "cell_type": "code",
   "execution_count": 4,
   "metadata": {},
   "outputs": [],
   "source": [
    "c=0.5+1j*0\n",
    "r=0.5"
   ]
  },
  {
   "cell_type": "code",
   "execution_count": 5,
   "metadata": {},
   "outputs": [],
   "source": [
    "u = np.array([c+r*np.exp(2*k*np.pi*1j/8) for k in range(8)], dtype=np.complex)"
   ]
  },
  {
   "cell_type": "code",
   "execution_count": 6,
   "metadata": {},
   "outputs": [],
   "source": [
    "data = [dict(type='scatter',\n",
    "             x=u.real,\n",
    "             y=u.imag,\n",
    "             mode='markers',\n",
    "             marker=dict(size=12, color='white'),\n",
    "             name='moving_pts')]"
   ]
  },
  {
   "cell_type": "code",
   "execution_count": 7,
   "metadata": {},
   "outputs": [],
   "source": [
    "a = 1.01\n",
    "axis = dict(visible=False,\n",
    "            range=[-a,a],\n",
    "            autorange=False,\n",
    "            title='')\n",
    "\n",
    "layout = dict(title=\"Fermat's Library Animation\",\n",
    "              autosize=False,\n",
    "              width=400,\n",
    "              height=345,\n",
    "              showlegend=False,\n",
    "              xaxis=dict(axis),\n",
    "              yaxis=dict(axis),\n",
    "              hovermode='closest',\n",
    "              margin=dict(b=5),\n",
    "              shapes=[],\n",
    "        \n",
    "              updatemenus=[dict(type='buttons',\n",
    "                                showactive=False,\n",
    "                                y=1,\n",
    "                                x=1.3,\n",
    "                                xanchor='right',\n",
    "                                yanchor='top',\n",
    "                                pad=dict(l=10),\n",
    "                                buttons=[dict(label='Play',\n",
    "                                              method='animate',\n",
    "                                              args=[None, dict(frame=dict(duration=200, redraw=False), \n",
    "                                                    transition=dict(duration=100),\n",
    "                                                    fromcurrent=True,\n",
    "                                                    mode='immediate')] )] )])"
   ]
  },
  {
   "cell_type": "code",
   "execution_count": 8,
   "metadata": {},
   "outputs": [],
   "source": [
    "z=np.array([np.exp(2*k*np.pi*1j/16) for k in range(16)], dtype=np.complex) # the cmplx points representing the $!6^{th}$ \n",
    "                                                                           # roots of unity"
   ]
  },
  {
   "cell_type": "code",
   "execution_count": 9,
   "metadata": {},
   "outputs": [],
   "source": [
    "R = 1\n",
    "layout['shapes'].append(dict(type='circle',\n",
    "                             layer='below',\n",
    "                             xref='x',\n",
    "                             yref='y',\n",
    "                             fillcolor= 'rgba(10,10,10, 0.9)',\n",
    "                             x0= -R,\n",
    "                             y0= -R,\n",
    "                             x1= R,\n",
    "                             y1= R,\n",
    "                             line= dict(color= 'white')))\n",
    "\n",
    "#Define the 8 diameters in the circle of center 0+1j*0 as quadratic Bezier curves with colinear control points\n",
    "for k in range( 8):\n",
    "    x0 = z[k].real\n",
    "    y0 = z[k].imag\n",
    "    x1 = z[k+8].real\n",
    "    y1 = z[k+8].imag\n",
    "    layout['shapes'].append(dict(type='path',\n",
    "                                 layer='below',\n",
    "                                 path= f\"M{x0}, {y0} Q 0, 0 {x1}, {y1}\",                    \n",
    "                                 line= dict(color= 'white', width=0.5)))   "
   ]
  },
  {
   "cell_type": "code",
   "execution_count": 10,
   "metadata": {},
   "outputs": [],
   "source": [
    "frames = []\n",
    "for m in range(65):\n",
    "    w = np.exp(1j*m*pi/8)*c+np.exp(-1j*m*pi/8)*(u-r)\n",
    "    frames.append(dict(data=[dict(type='scatter',\n",
    "                                  x=w.real,\n",
    "                                  y=w.imag)],\n",
    "                       traces=[0]))"
   ]
  },
  {
   "cell_type": "code",
   "execution_count": null,
   "metadata": {},
   "outputs": [],
   "source": [
    "fig = go.Figure(data=data, layout=layout, frames=frames)  "
   ]
  },
  {
   "cell_type": "markdown",
   "metadata": {},
   "source": [
    "Now let us generate the same animation using ipywidgets:"
   ]
  },
  {
   "cell_type": "code",
   "execution_count": 11,
   "metadata": {},
   "outputs": [],
   "source": [
    "fw = go.FigureWidget(data=data, layout=layout)"
   ]
  },
  {
   "cell_type": "code",
   "execution_count": 12,
   "metadata": {},
   "outputs": [],
   "source": [
    "fw.layout.updatemenus=None"
   ]
  },
  {
   "cell_type": "code",
   "execution_count": 13,
   "metadata": {},
   "outputs": [],
   "source": [
    "slider = ipw.IntSlider(value=0, min=0, max=64, step=1, description='')\n",
    "slider.layout = dict(margin='10px 80px 40px 5px', width='400px')"
   ]
  },
  {
   "cell_type": "code",
   "execution_count": null,
   "metadata": {},
   "outputs": [],
   "source": [
    "def points_changed(change):\n",
    "    wn = np.exp(1j*slider.value*pi/8) * c + np.exp(-1j*slider.value*pi/8) * (u - r)\n",
    "    with fw.batch_animate(duration=500):             \n",
    "        fw.data[0].x = list(wn.real)\n",
    "        fw.data[0].y = list(wn.imag)\n",
    "       \n",
    "        \n",
    "slider.observe(points_changed, 'value')"
   ]
  },
  {
   "cell_type": "code",
   "execution_count": null,
   "metadata": {},
   "outputs": [],
   "source": [
    "play_widget = ipw.Play(value=0, min=0, max=65, step=1, interval=200)\n",
    "play_widget.layout = dict(margin='10px 10px 50px 100px')\n",
    "ipw.link((play_widget, 'value'), (slider, 'value'))"
   ]
  },
  {
   "cell_type": "markdown",
   "metadata": {},
   "source": [
    "Plotly \"classical\" animation:"
   ]
  },
  {
   "cell_type": "code",
   "execution_count": null,
   "metadata": {},
   "outputs": [],
   "source": [
    "iplot(fig)"
   ]
  },
  {
   "cell_type": "code",
   "execution_count": null,
   "metadata": {},
   "outputs": [],
   "source": [
    "ipw.VBox([fw, ipw.HBox([play_widget, slider])]) "
   ]
  },
  {
   "cell_type": "code",
   "execution_count": null,
   "metadata": {},
   "outputs": [],
   "source": []
  },
  {
   "cell_type": "markdown",
   "metadata": {},
   "source": [
    "Without slider it works better:"
   ]
  },
  {
   "cell_type": "code",
   "execution_count": 18,
   "metadata": {},
   "outputs": [
    {
     "data": {
      "application/vnd.jupyter.widget-view+json": {
       "model_id": "43374f4467494006b9b51e62f5334d09",
       "version_major": 2,
       "version_minor": 0
      },
      "text/plain": [
       "FigureWidget({\n",
       "    'data': [{'marker': {'color': 'white', 'size': 12},\n",
       "              'mode': 'markers',\n",
       "      …"
      ]
     },
     "metadata": {},
     "output_type": "display_data"
    }
   ],
   "source": [
    "fw"
   ]
  },
  {
   "cell_type": "code",
   "execution_count": 21,
   "metadata": {},
   "outputs": [],
   "source": [
    "for k in range(64):\n",
    "    wn = np.exp(1j*k*pi/8) * c + np.exp(-1j*k*pi/8) * (u - r)\n",
    "\n",
    "    with fw.batch_animate(duration=200):             \n",
    "        fw.data[0].x = list(wn.real)\n",
    "        fw.data[0].y = list(wn.imag)"
   ]
  },
  {
   "cell_type": "code",
   "execution_count": null,
   "metadata": {},
   "outputs": [],
   "source": []
  }
 ],
 "metadata": {
  "kernelspec": {
   "display_name": "Python 3",
   "language": "python",
   "name": "python3"
  },
  "language_info": {
   "codemirror_mode": {
    "name": "ipython",
    "version": 3
   },
   "file_extension": ".py",
   "mimetype": "text/x-python",
   "name": "python",
   "nbconvert_exporter": "python",
   "pygments_lexer": "ipython3",
   "version": "3.6.4"
  }
 },
 "nbformat": 4,
 "nbformat_minor": 2
}
