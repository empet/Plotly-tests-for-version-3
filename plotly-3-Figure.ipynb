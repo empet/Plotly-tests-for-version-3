{
 "cells": [
  {
   "cell_type": "markdown",
   "metadata": {},
   "source": [
    "## <center> Plotly3.0.0rc11<br>Define a Plotly figure as an instance of go.Figure()"
   ]
  },
  {
   "cell_type": "code",
   "execution_count": 1,
   "metadata": {},
   "outputs": [],
   "source": [
    "import numpy as np\n",
    "import pandas as pd\n",
    "import plotly.graph_objs as go\n",
    "from plotly.graph_objs import FigureWidget"
   ]
  },
  {
   "cell_type": "markdown",
   "metadata": {},
   "source": [
    "**The first method**:"
   ]
  },
  {
   "cell_type": "markdown",
   "metadata": {},
   "source": [
    "Create a  figure with an almost empty trace of type 'surface':"
   ]
  },
  {
   "cell_type": "code",
   "execution_count": 2,
   "metadata": {},
   "outputs": [],
   "source": [
    "fig=go.Figure(data=[dict(x=[], y=[], z=[], type='surface')])"
   ]
  },
  {
   "cell_type": "code",
   "execution_count": 3,
   "metadata": {},
   "outputs": [
    {
     "data": {
      "text/plain": [
       "Figure({\n",
       "    'data': [{'type': 'surface', 'uid': 'f1cb1a62-7fcd-11e8-8c08-ce3fb261e122', 'x': [], 'y': [], 'z': []}], 'layout': {}\n",
       "})"
      ]
     },
     "execution_count": 3,
     "metadata": {},
     "output_type": "execute_result"
    }
   ],
   "source": [
    "fig"
   ]
  },
  {
   "cell_type": "markdown",
   "metadata": {},
   "source": [
    "Update this incomplete fig:"
   ]
  },
  {
   "cell_type": "code",
   "execution_count": 4,
   "metadata": {},
   "outputs": [],
   "source": [
    "from numpy import sin, cos\n",
    "u=np.linspace(0, 2*np.pi, 150)\n",
    "v=np.linspace(0, 2*np.pi, 150)\n",
    "u,v=np.meshgrid(u,v)\n",
    "\n",
    "x=cos(v)*(6-(5/4+sin(3*u))*sin(u-3*v))\n",
    "y=sin(v)*(6-(5/4+sin(3*u))*sin(u-3*v))\n",
    "z=-cos(u-3*v)*(5/4+sin(3*u))"
   ]
  },
  {
   "cell_type": "code",
   "execution_count": 5,
   "metadata": {},
   "outputs": [],
   "source": [
    "balance=[[0.0, 'rgb(23, 28, 66)'],\n",
    "         [0.1, 'rgb(41, 61, 150)'],\n",
    "         [0.2, 'rgb(21, 112, 187)'],\n",
    "         [0.3, 'rgb(89, 155, 186)'],\n",
    "         [0.4, 'rgb(169, 194, 202)'],\n",
    "         [0.5, 'rgb(240, 236, 235)'],\n",
    "         [0.6, 'rgb(219, 177, 163)'],\n",
    "         [0.7, 'rgb(201, 118, 90)'],\n",
    "         [0.8, 'rgb(179, 56, 38)'],\n",
    "         [0.9, 'rgb(125, 13, 41)'],\n",
    "         [1.0, 'rgb(60, 9, 17)']]"
   ]
  },
  {
   "cell_type": "code",
   "execution_count": 6,
   "metadata": {},
   "outputs": [],
   "source": [
    "axes_style = dict(showbackground=True, \n",
    "                  backgroundcolor=\"rgb(230, 230,230)\",\n",
    "                  gridcolor=\"rgb(255, 255, 255)\",      \n",
    "                  zerolinecolor=\"rgb(255, 255, 255)\")"
   ]
  },
  {
   "cell_type": "code",
   "execution_count": 7,
   "metadata": {},
   "outputs": [],
   "source": [
    "with fig.batch_update():\n",
    "    fig.data[0].update(x=x, \n",
    "                       y=y, \n",
    "                       z=z,\n",
    "                       colorscale=balance,\n",
    "                       colorbar=dict(thickness=20, ticklen=4, len=0.6),\n",
    "                  )\n",
    "    fig.layout.update(width=800,\n",
    "                      height=700,\n",
    "                      autosize=False,\n",
    "                      title='',#Happy Independence Day\n",
    "                      scene=dict(camera=dict(eye=dict(x=1.25, y=1.25, z=0.6)),\n",
    "                                 xaxis=axes_style,\n",
    "                                 yaxis=axes_style, \n",
    "                                 zaxis=axes_style,\n",
    "                                 aspectratio=dict(x=1,\n",
    "                                 y=1,\n",
    "                                 z=0.35)\n",
    "                                ))"
   ]
  },
  {
   "cell_type": "code",
   "execution_count": 8,
   "metadata": {},
   "outputs": [
    {
     "data": {
      "text/plain": [
       "{'data': [{'colorbar': {'len': 0.6, 'thickness': 20, 'ticklen': 4},\n",
       "   'colorscale': [[0.0, 'rgb(23, 28, 66)'],\n",
       "    [0.1, 'rgb(41, 61, 150)'],\n",
       "    [0.2, 'rgb(21, 112, 187)'],\n",
       "    [0.3, 'rgb(89, 155, 186)'],\n",
       "    [0.4, 'rgb(169, 194, 202)'],\n",
       "    [0.5, 'rgb(240, 236, 235)'],\n",
       "    [0.6, 'rgb(219, 177, 163)'],\n",
       "    [0.7, 'rgb(201, 118, 90)'],\n",
       "    [0.8, 'rgb(179, 56, 38)'],\n",
       "    [0.9, 'rgb(125, 13, 41)'],\n",
       "    [1.0, 'rgb(60, 9, 17)']],\n",
       "   'type': 'surface',\n",
       "   'uid': 'f1cb1a62-7fcd-11e8-8c08-ce3fb261e122',\n",
       "   'x': array([[ 6.        ,  5.94198545,  5.8736156 , ...,  6.08421088,\n",
       "            6.04737678,  6.        ],\n",
       "          [ 6.1522383 ,  6.11048901,  6.05785831, ...,  6.20369886,\n",
       "            6.18316406,  6.1522383 ],\n",
       "          [ 6.29046588,  6.26566387,  6.22964906, ...,  6.30838057,\n",
       "            6.30445104,  6.29046588],\n",
       "          ..., \n",
       "          [ 5.66688196,  5.57974824,  5.48384738, ...,  5.8114473 ,\n",
       "            5.74430756,  5.66688196],\n",
       "          [ 5.83709391,  5.76384366,  5.68094798, ...,  5.95256067,\n",
       "            5.90008094,  5.83709391],\n",
       "          [ 6.        ,  5.94198545,  5.8736156 , ...,  6.08421088,\n",
       "            6.04737678,  6.        ]]),\n",
       "   'y': array([[  0.00000000e+00,   0.00000000e+00,   0.00000000e+00, ...,\n",
       "             0.00000000e+00,   0.00000000e+00,   0.00000000e+00],\n",
       "          [  2.59587802e-01,   2.57826230e-01,   2.55605528e-01, ...,\n",
       "             2.61759131e-01,   2.60892685e-01,   2.59587802e-01],\n",
       "          [  5.31787124e-01,   5.29690398e-01,   5.26645756e-01, ...,\n",
       "             5.33301607e-01,   5.32969410e-01,   5.31787124e-01],\n",
       "          ..., \n",
       "          [ -4.79070219e-01,  -4.71704056e-01,  -4.63596732e-01, ...,\n",
       "            -4.91291568e-01,  -4.85615669e-01,  -4.79070219e-01],\n",
       "          [ -2.46290586e-01,  -2.43199862e-01,  -2.39702158e-01, ...,\n",
       "            -2.51162595e-01,  -2.48948264e-01,  -2.46290586e-01],\n",
       "          [ -1.46957616e-15,  -1.45536669e-15,  -1.43862091e-15, ...,\n",
       "            -1.49020188e-15,  -1.48118012e-15,  -1.46957616e-15]]),\n",
       "   'z': array([[-1.25      , -1.37494653, -1.49499063, ..., -0.9961235 ,\n",
       "           -1.12283102, -1.25      ],\n",
       "          [-1.24001081, -1.37127853, -1.49898954, ..., -0.97753825,\n",
       "           -1.10788055, -1.24001081],\n",
       "          [-1.21020288, -1.34569379, -1.47903053, ..., -0.94332928,\n",
       "           -1.07522315, -1.21020288],\n",
       "          ..., \n",
       "          [-1.21020288, -1.316649  , -1.41575661, ..., -0.98548917,\n",
       "           -1.09894217, -1.21020288],\n",
       "          [-1.24001081, -1.35663915, -1.46709772, ..., -0.998788  ,\n",
       "           -1.1198356 , -1.24001081],\n",
       "          [-1.25      , -1.37494653, -1.49499063, ..., -0.9961235 ,\n",
       "           -1.12283102, -1.25      ]])}],\n",
       " 'layout': {'autosize': False,\n",
       "  'height': 700,\n",
       "  'scene': {'aspectratio': {'x': 1, 'y': 1, 'z': 0.35},\n",
       "   'camera': {'eye': {'x': 1.25, 'y': 1.25, 'z': 0.6}},\n",
       "   'xaxis': {'backgroundcolor': 'rgb(230, 230,230)',\n",
       "    'gridcolor': 'rgb(255, 255, 255)',\n",
       "    'showbackground': True,\n",
       "    'zerolinecolor': 'rgb(255, 255, 255)'},\n",
       "   'yaxis': {'backgroundcolor': 'rgb(230, 230,230)',\n",
       "    'gridcolor': 'rgb(255, 255, 255)',\n",
       "    'showbackground': True,\n",
       "    'zerolinecolor': 'rgb(255, 255, 255)'},\n",
       "   'zaxis': {'backgroundcolor': 'rgb(230, 230,230)',\n",
       "    'gridcolor': 'rgb(255, 255, 255)',\n",
       "    'showbackground': True,\n",
       "    'zerolinecolor': 'rgb(255, 255, 255)'}},\n",
       "  'title': '',\n",
       "  'width': 800}}"
      ]
     },
     "execution_count": 8,
     "metadata": {},
     "output_type": "execute_result"
    }
   ],
   "source": [
    "fig.to_plotly_json()"
   ]
  },
  {
   "cell_type": "code",
   "execution_count": 9,
   "metadata": {},
   "outputs": [
    {
     "data": {
      "application/vnd.jupyter.widget-view+json": {
       "model_id": "bcadf76ecd1c4921b7035beadaac9305",
       "version_major": 2,
       "version_minor": 0
      },
      "text/plain": [
       "FigureWidget({\n",
       "    'data': [{'colorbar': {'len': 0.6, 'thickness': 20, 'ticklen': 4},\n",
       "              'colorscal…"
      ]
     },
     "metadata": {},
     "output_type": "display_data"
    }
   ],
   "source": [
    "fw = go.FigureWidget(fig)\n",
    "fw"
   ]
  },
  {
   "cell_type": "markdown",
   "metadata": {},
   "source": [
    "Update data with  the `lighting` and the `lightposition` dicts. The updated figure is displayed in the above cell, $\\huge\\bf\\uparrow$, too (i.e. the previously displayed figure is replotted after updates)."
   ]
  },
  {
   "cell_type": "code",
   "execution_count": 10,
   "metadata": {},
   "outputs": [
    {
     "data": {
      "application/vnd.jupyter.widget-view+json": {
       "model_id": "bcadf76ecd1c4921b7035beadaac9305",
       "version_major": 2,
       "version_minor": 0
      },
      "text/plain": [
       "FigureWidget({\n",
       "    'data': [{'colorbar': {'len': 0.6, 'thickness': 20, 'ticklen': 4},\n",
       "              'colorscal…"
      ]
     },
     "metadata": {},
     "output_type": "display_data"
    }
   ],
   "source": [
    "fw.data[0].update(lighting=dict(ambient=0.35,\n",
    "                  diffuse=1,\n",
    "                  fresnel=4,\n",
    "                  specular=0.5,\n",
    "                  roughness=0.5),\n",
    "                  lightposition=dict(x=100,\n",
    "                                    y=100,\n",
    "                                    z=100))\n",
    "fw    "
   ]
  },
  {
   "cell_type": "markdown",
   "metadata": {},
   "source": [
    "**Second method to define a go.Figure()**"
   ]
  },
  {
   "cell_type": "code",
   "execution_count": 11,
   "metadata": {},
   "outputs": [],
   "source": [
    "df=pd.read_csv('SystEng.csv')\n",
    "xx=df['multiannual'].values\n",
    "yy=df['bachelor-th'].values"
   ]
  },
  {
   "cell_type": "code",
   "execution_count": null,
   "metadata": {},
   "outputs": [],
   "source": []
  },
  {
   "cell_type": "code",
   "execution_count": 12,
   "metadata": {},
   "outputs": [],
   "source": [
    "matter=[[0.0, 'rgb(253, 237, 176)'],\n",
    "        [0.1, 'rgb(250, 202, 143)'],\n",
    "        [0.2, 'rgb(245, 166, 114)'],\n",
    "        [0.3, 'rgb(238, 132, 93)'],\n",
    "        [0.4, 'rgb(226, 97, 82)'],\n",
    "        [0.5, 'rgb(206, 67, 86)'],\n",
    "        [0.6, 'rgb(179, 46, 94)'],\n",
    "        [0.7, 'rgb(147, 31, 99)'],\n",
    "        [0.8, 'rgb(114, 25, 95)'],\n",
    "        [0.9, 'rgb(79, 21, 82)'],\n",
    "        [1.0, 'rgb(47, 15, 61)']]"
   ]
  },
  {
   "cell_type": "code",
   "execution_count": 13,
   "metadata": {},
   "outputs": [],
   "source": [
    "my_data=[go.Histogram2dContour(x=xx,\n",
    "                               y=yy,\n",
    "                               ncontours=16,\n",
    "                               colorscale=matter,\n",
    "                               colorbar=dict(thickness=20, ticklen=4)\n",
    "                               )]\n",
    "my_layout=dict(title='',\n",
    "               width=600, \n",
    "               height=600, \n",
    "               xaxis=dict(zeroline=False, showgrid=False, ticklen=4, title='multiannual'),\n",
    "               yaxis=dict(zeroline=False, showgrid=False, ticklen=4, title='bachelor thesis', range=[5,11]),\n",
    "               hovermode='closest')\n",
    "\n",
    "fig1=go.Figure(data=my_data, \n",
    "              layout=my_layout)#this one is the classical Plotly method"
   ]
  },
  {
   "cell_type": "code",
   "execution_count": 14,
   "metadata": {},
   "outputs": [
    {
     "data": {
      "application/vnd.jupyter.widget-view+json": {
       "model_id": "d357d9f3df894aed861ad54e5b674933",
       "version_major": 2,
       "version_minor": 0
      },
      "text/plain": [
       "FigureWidget({\n",
       "    'data': [{'colorbar': {'thickness': 20, 'ticklen': 4},\n",
       "              'colorscale': [[0.0, '…"
      ]
     },
     "metadata": {},
     "output_type": "display_data"
    }
   ],
   "source": [
    "fw1 = go.FigureWidget(fig1)\n",
    "fw1"
   ]
  },
  {
   "cell_type": "markdown",
   "metadata": {},
   "source": [
    "**Third case**"
   ]
  },
  {
   "cell_type": "markdown",
   "metadata": {},
   "source": [
    "Define a completely empty figure and try to set its data property:"
   ]
  },
  {
   "cell_type": "code",
   "execution_count": 15,
   "metadata": {},
   "outputs": [
    {
     "data": {
      "text/plain": [
       "Figure({\n",
       "    'data': [], 'layout': {}\n",
       "})"
      ]
     },
     "execution_count": 15,
     "metadata": {},
     "output_type": "execute_result"
    }
   ],
   "source": [
    "fig2=go.Figure()\n",
    "fig2"
   ]
  },
  {
   "cell_type": "markdown",
   "metadata": {},
   "source": [
    "Define data for a `scatter` plot and a` histogram2dcontour` plot:"
   ]
  },
  {
   "cell_type": "code",
   "execution_count": 16,
   "metadata": {},
   "outputs": [],
   "source": [
    "X=np.random.rand(500)\n",
    "Y=np.random.rand(500)"
   ]
  },
  {
   "cell_type": "code",
   "execution_count": 17,
   "metadata": {},
   "outputs": [],
   "source": [
    "n_pts=1000\n",
    "\n",
    "m=[ 2.16, 3 ]#mean vector\n",
    "Sigma=np.array([[1.2, 0.8],#covariance matrix\n",
    "                [0.8, 1.75]])\n",
    "xd, yd=np.random.multivariate_normal(m, Sigma, size=n_pts).T"
   ]
  },
  {
   "cell_type": "code",
   "execution_count": 18,
   "metadata": {},
   "outputs": [],
   "source": [
    "new_data=[go.Scatter(x=X, y=Y),\n",
    "          go.Histogram2dContour(x=xd, y=yd, colorscale=matter, showscale=False, ncontours=16)]\n"
   ]
  },
  {
   "cell_type": "markdown",
   "metadata": {},
   "source": [
    "We are tempted to define fig2.data as follows:"
   ]
  },
  {
   "cell_type": "code",
   "execution_count": 19,
   "metadata": {},
   "outputs": [
    {
     "ename": "ValueError",
     "evalue": "The data property of a figure may only be assigned a list or tuple that contains a permutation of a subset of itself\n    Invalid trace(s) with uid(s): {None}",
     "output_type": "error",
     "traceback": [
      "\u001b[1;31m---------------------------------------------------------------------------\u001b[0m",
      "\u001b[1;31mValueError\u001b[0m                                Traceback (most recent call last)",
      "\u001b[1;32m<ipython-input-19-6fab1c451c8c>\u001b[0m in \u001b[0;36m<module>\u001b[1;34m()\u001b[0m\n\u001b[1;32m----> 1\u001b[1;33m \u001b[0mfig2\u001b[0m\u001b[1;33m.\u001b[0m\u001b[0mdata\u001b[0m\u001b[1;33m=\u001b[0m\u001b[0mnew_data\u001b[0m\u001b[1;33m\u001b[0m\u001b[0m\n\u001b[0m",
      "\u001b[1;32m~\\Miniconda2\\envs\\python36\\lib\\site-packages\\plotly\\basedatatypes.py\u001b[0m in \u001b[0;36m__setattr__\u001b[1;34m(self, prop, value)\u001b[0m\n\u001b[0;32m    272\u001b[0m         \u001b[1;32mif\u001b[0m \u001b[0mprop\u001b[0m\u001b[1;33m.\u001b[0m\u001b[0mstartswith\u001b[0m\u001b[1;33m(\u001b[0m\u001b[1;34m'_'\u001b[0m\u001b[1;33m)\u001b[0m \u001b[1;32mor\u001b[0m \u001b[0mhasattr\u001b[0m\u001b[1;33m(\u001b[0m\u001b[0mself\u001b[0m\u001b[1;33m,\u001b[0m \u001b[0mprop\u001b[0m\u001b[1;33m)\u001b[0m\u001b[1;33m:\u001b[0m\u001b[1;33m\u001b[0m\u001b[0m\n\u001b[0;32m    273\u001b[0m             \u001b[1;31m# Let known properties and private properties through\u001b[0m\u001b[1;33m\u001b[0m\u001b[1;33m\u001b[0m\u001b[0m\n\u001b[1;32m--> 274\u001b[1;33m             \u001b[0msuper\u001b[0m\u001b[1;33m(\u001b[0m\u001b[0mBaseFigure\u001b[0m\u001b[1;33m,\u001b[0m \u001b[0mself\u001b[0m\u001b[1;33m)\u001b[0m\u001b[1;33m.\u001b[0m\u001b[0m__setattr__\u001b[0m\u001b[1;33m(\u001b[0m\u001b[0mprop\u001b[0m\u001b[1;33m,\u001b[0m \u001b[0mvalue\u001b[0m\u001b[1;33m)\u001b[0m\u001b[1;33m\u001b[0m\u001b[0m\n\u001b[0m\u001b[0;32m    275\u001b[0m         \u001b[1;32melse\u001b[0m\u001b[1;33m:\u001b[0m\u001b[1;33m\u001b[0m\u001b[0m\n\u001b[0;32m    276\u001b[0m             \u001b[1;31m# Raise error on unknown public properties\u001b[0m\u001b[1;33m\u001b[0m\u001b[1;33m\u001b[0m\u001b[0m\n",
      "\u001b[1;32m~\\Miniconda2\\envs\\python36\\lib\\site-packages\\plotly\\basedatatypes.py\u001b[0m in \u001b[0;36mdata\u001b[1;34m(self, new_data)\u001b[0m\n\u001b[0;32m    436\u001b[0m                 .format(invalid_uids=invalid_uids))\n\u001b[0;32m    437\u001b[0m \u001b[1;33m\u001b[0m\u001b[0m\n\u001b[1;32m--> 438\u001b[1;33m             \u001b[1;32mraise\u001b[0m \u001b[0mValueError\u001b[0m\u001b[1;33m(\u001b[0m\u001b[0merr_msg\u001b[0m\u001b[1;33m)\u001b[0m\u001b[1;33m\u001b[0m\u001b[0m\n\u001b[0m\u001b[0;32m    439\u001b[0m \u001b[1;33m\u001b[0m\u001b[0m\n\u001b[0;32m    440\u001b[0m         \u001b[1;31m# ### Check for duplicates in assignment ###\u001b[0m\u001b[1;33m\u001b[0m\u001b[1;33m\u001b[0m\u001b[0m\n",
      "\u001b[1;31mValueError\u001b[0m: The data property of a figure may only be assigned a list or tuple that contains a permutation of a subset of itself\n    Invalid trace(s) with uid(s): {None}"
     ]
    }
   ],
   "source": [
    "fig2.data=new_data"
   ]
  },
  {
   "cell_type": "markdown",
   "metadata": {},
   "source": [
    "but such an assignment throws an error. To better understand the above `ValueError` define the `go.Figure`, `fign`:"
   ]
  },
  {
   "cell_type": "code",
   "execution_count": 20,
   "metadata": {},
   "outputs": [],
   "source": [
    "fign=go.Figure(data=new_data)"
   ]
  },
  {
   "cell_type": "markdown",
   "metadata": {},
   "source": [
    "and try to define `fig2.data` as follows:"
   ]
  },
  {
   "cell_type": "code",
   "execution_count": 21,
   "metadata": {},
   "outputs": [
    {
     "ename": "ValueError",
     "evalue": "The data property of a figure may only be assigned a list or tuple that contains a permutation of a subset of itself\n    Invalid trace(s) with uid(s): {'051878ef-7fce-11e8-aebf-ce3fb261e122', '051878ee-7fce-11e8-9aba-ce3fb261e122'}",
     "output_type": "error",
     "traceback": [
      "\u001b[1;31m---------------------------------------------------------------------------\u001b[0m",
      "\u001b[1;31mValueError\u001b[0m                                Traceback (most recent call last)",
      "\u001b[1;32m<ipython-input-21-d003e62716f1>\u001b[0m in \u001b[0;36m<module>\u001b[1;34m()\u001b[0m\n\u001b[1;32m----> 1\u001b[1;33m \u001b[0mfig2\u001b[0m\u001b[1;33m.\u001b[0m\u001b[0mdata\u001b[0m\u001b[1;33m=\u001b[0m\u001b[1;33m[\u001b[0m\u001b[0mfign\u001b[0m\u001b[1;33m.\u001b[0m\u001b[0mdata\u001b[0m\u001b[1;33m[\u001b[0m\u001b[1;36m1\u001b[0m\u001b[1;33m]\u001b[0m\u001b[1;33m,\u001b[0m \u001b[0mfign\u001b[0m\u001b[1;33m.\u001b[0m\u001b[0mdata\u001b[0m\u001b[1;33m[\u001b[0m\u001b[1;36m0\u001b[0m\u001b[1;33m]\u001b[0m\u001b[1;33m]\u001b[0m\u001b[1;33m\u001b[0m\u001b[0m\n\u001b[0m",
      "\u001b[1;32m~\\Miniconda2\\envs\\python36\\lib\\site-packages\\plotly\\basedatatypes.py\u001b[0m in \u001b[0;36m__setattr__\u001b[1;34m(self, prop, value)\u001b[0m\n\u001b[0;32m    272\u001b[0m         \u001b[1;32mif\u001b[0m \u001b[0mprop\u001b[0m\u001b[1;33m.\u001b[0m\u001b[0mstartswith\u001b[0m\u001b[1;33m(\u001b[0m\u001b[1;34m'_'\u001b[0m\u001b[1;33m)\u001b[0m \u001b[1;32mor\u001b[0m \u001b[0mhasattr\u001b[0m\u001b[1;33m(\u001b[0m\u001b[0mself\u001b[0m\u001b[1;33m,\u001b[0m \u001b[0mprop\u001b[0m\u001b[1;33m)\u001b[0m\u001b[1;33m:\u001b[0m\u001b[1;33m\u001b[0m\u001b[0m\n\u001b[0;32m    273\u001b[0m             \u001b[1;31m# Let known properties and private properties through\u001b[0m\u001b[1;33m\u001b[0m\u001b[1;33m\u001b[0m\u001b[0m\n\u001b[1;32m--> 274\u001b[1;33m             \u001b[0msuper\u001b[0m\u001b[1;33m(\u001b[0m\u001b[0mBaseFigure\u001b[0m\u001b[1;33m,\u001b[0m \u001b[0mself\u001b[0m\u001b[1;33m)\u001b[0m\u001b[1;33m.\u001b[0m\u001b[0m__setattr__\u001b[0m\u001b[1;33m(\u001b[0m\u001b[0mprop\u001b[0m\u001b[1;33m,\u001b[0m \u001b[0mvalue\u001b[0m\u001b[1;33m)\u001b[0m\u001b[1;33m\u001b[0m\u001b[0m\n\u001b[0m\u001b[0;32m    275\u001b[0m         \u001b[1;32melse\u001b[0m\u001b[1;33m:\u001b[0m\u001b[1;33m\u001b[0m\u001b[0m\n\u001b[0;32m    276\u001b[0m             \u001b[1;31m# Raise error on unknown public properties\u001b[0m\u001b[1;33m\u001b[0m\u001b[1;33m\u001b[0m\u001b[0m\n",
      "\u001b[1;32m~\\Miniconda2\\envs\\python36\\lib\\site-packages\\plotly\\basedatatypes.py\u001b[0m in \u001b[0;36mdata\u001b[1;34m(self, new_data)\u001b[0m\n\u001b[0;32m    436\u001b[0m                 .format(invalid_uids=invalid_uids))\n\u001b[0;32m    437\u001b[0m \u001b[1;33m\u001b[0m\u001b[0m\n\u001b[1;32m--> 438\u001b[1;33m             \u001b[1;32mraise\u001b[0m \u001b[0mValueError\u001b[0m\u001b[1;33m(\u001b[0m\u001b[0merr_msg\u001b[0m\u001b[1;33m)\u001b[0m\u001b[1;33m\u001b[0m\u001b[0m\n\u001b[0m\u001b[0;32m    439\u001b[0m \u001b[1;33m\u001b[0m\u001b[0m\n\u001b[0;32m    440\u001b[0m         \u001b[1;31m# ### Check for duplicates in assignment ###\u001b[0m\u001b[1;33m\u001b[0m\u001b[1;33m\u001b[0m\u001b[0m\n",
      "\u001b[1;31mValueError\u001b[0m: The data property of a figure may only be assigned a list or tuple that contains a permutation of a subset of itself\n    Invalid trace(s) with uid(s): {'051878ef-7fce-11e8-aebf-ce3fb261e122', '051878ee-7fce-11e8-9aba-ce3fb261e122'}"
     ]
    }
   ],
   "source": [
    "fig2.data=[fign.data[1], fign.data[0]]"
   ]
  },
  {
   "cell_type": "markdown",
   "metadata": {},
   "source": [
    "We can set `fig.data` only with a sublist of itself traces that are eventually a permutation of the naturally ordered traces:\n",
    "\n",
    "`fig.data = [fig.data[2], fig.data[0]]`"
   ]
  },
  {
   "cell_type": "code",
   "execution_count": null,
   "metadata": {},
   "outputs": [],
   "source": []
  }
 ],
 "metadata": {
  "kernelspec": {
   "display_name": "Python 3",
   "language": "python",
   "name": "python3"
  },
  "language_info": {
   "codemirror_mode": {
    "name": "ipython",
    "version": 3
   },
   "file_extension": ".py",
   "mimetype": "text/x-python",
   "name": "python",
   "nbconvert_exporter": "python",
   "pygments_lexer": "ipython3",
   "version": "3.6.4"
  }
 },
 "nbformat": 4,
 "nbformat_minor": 2
}
