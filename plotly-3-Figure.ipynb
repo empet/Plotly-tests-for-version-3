{
 "cells": [
  {
   "cell_type": "markdown",
   "metadata": {},
   "source": [
    "## <center> Plotly3.0.0rc10<br>Define a Plotly figure as an instance of go.Figure()"
   ]
  },
  {
   "cell_type": "code",
   "execution_count": null,
   "metadata": {},
   "outputs": [],
   "source": [
    "import numpy as np\n",
    "import pandas as pd\n",
    "import plotly.graph_objs as go\n",
    "from plotly.graph_objs import FigureWidget"
   ]
  },
  {
   "cell_type": "markdown",
   "metadata": {},
   "source": [
    "**The first method**:"
   ]
  },
  {
   "cell_type": "markdown",
   "metadata": {},
   "source": [
    "Create a  figure with an almost empty trace of type 'surface':"
   ]
  },
  {
   "cell_type": "code",
   "execution_count": null,
   "metadata": {},
   "outputs": [],
   "source": [
    "fig=go.Figure(data=[dict(x=[], y=[], z=[], type='surface')])"
   ]
  },
  {
   "cell_type": "code",
   "execution_count": null,
   "metadata": {},
   "outputs": [],
   "source": [
    "fig"
   ]
  },
  {
   "cell_type": "markdown",
   "metadata": {},
   "source": [
    "Update this incomplete fig:"
   ]
  },
  {
   "cell_type": "code",
   "execution_count": null,
   "metadata": {},
   "outputs": [],
   "source": [
    "from numpy import sin, cos\n",
    "u=np.linspace(0, 2*np.pi, 75)\n",
    "v=np.linspace(0, 2*np.pi, 75)\n",
    "u,v=np.meshgrid(u,v)\n",
    "\n",
    "x=cos(v)*(6-(5/4+sin(3*u))*sin(u-3*v))\n",
    "y=sin(v)*(6-(5/4+sin(3*u))*sin(u-3*v))\n",
    "z=-cos(u-3*v)*(5/4+sin(3*u))"
   ]
  },
  {
   "cell_type": "code",
   "execution_count": null,
   "metadata": {},
   "outputs": [],
   "source": [
    "balance=[[0.0, 'rgb(23, 28, 66)'],\n",
    "         [0.1, 'rgb(41, 61, 150)'],\n",
    "         [0.2, 'rgb(21, 112, 187)'],\n",
    "         [0.3, 'rgb(89, 155, 186)'],\n",
    "         [0.4, 'rgb(169, 194, 202)'],\n",
    "         [0.5, 'rgb(240, 236, 235)'],\n",
    "         [0.6, 'rgb(219, 177, 163)'],\n",
    "         [0.7, 'rgb(201, 118, 90)'],\n",
    "         [0.8, 'rgb(179, 56, 38)'],\n",
    "         [0.9, 'rgb(125, 13, 41)'],\n",
    "         [1.0, 'rgb(60, 9, 17)']]"
   ]
  },
  {
   "cell_type": "code",
   "execution_count": null,
   "metadata": {},
   "outputs": [],
   "source": [
    "axes_style = dict(showbackground=True, \n",
    "                  backgroundcolor=\"rgb(230, 230,230)\",\n",
    "                  gridcolor=\"rgb(255, 255, 255)\",      \n",
    "                  zerolinecolor=\"rgb(255, 255, 255)\")"
   ]
  },
  {
   "cell_type": "code",
   "execution_count": null,
   "metadata": {},
   "outputs": [],
   "source": [
    "with fig.batch_update():\n",
    "    fig.data[0].update(x=x, \n",
    "                       y=y, \n",
    "                       z=z,\n",
    "                       colorscale=balance,\n",
    "                       colorbar=dict(thickness=20, ticklen=4, len=0.6),\n",
    "                  )\n",
    "    fig.layout.update(width=800,\n",
    "                      height=700,\n",
    "                      autosize=False,\n",
    "                      title='An interesting surface',\n",
    "                      scene=dict(camera=dict(eye=dict(x=1.25, y=1.25, z=0.6)),\n",
    "                                 xaxis=axes_style,\n",
    "                                 yaxis=axes_style, \n",
    "                                 zaxis=axes_style,\n",
    "                                 aspectratio=dict(x=1,\n",
    "                                 y=1,\n",
    "                                 z=0.35)\n",
    "                                ))"
   ]
  },
  {
   "cell_type": "code",
   "execution_count": null,
   "metadata": {},
   "outputs": [],
   "source": [
    "fig.to_plotly_json()"
   ]
  },
  {
   "cell_type": "code",
   "execution_count": null,
   "metadata": {},
   "outputs": [],
   "source": [
    "fw = go.FigureWidget(fig)\n",
    "fw"
   ]
  },
  {
   "cell_type": "markdown",
   "metadata": {},
   "source": [
    "Update data with  the `lighting` and the `lightposition` dicts. The updated figure is displayed in the above cell, $\\huge\\bf\\uparrow$, too (i.e. the previously displayed figure is replotted after updates)."
   ]
  },
  {
   "cell_type": "code",
   "execution_count": null,
   "metadata": {},
   "outputs": [],
   "source": [
    "fw.data[0].update(lighting=dict(ambient=0.35,\n",
    "                  diffuse=1,\n",
    "                  fresnel=4,\n",
    "                  specular=0.5,\n",
    "                  roughness=0.5),\n",
    "                  lightposition=dict(x=100,\n",
    "                                    y=100,\n",
    "                                    z=100))\n",
    "fw    "
   ]
  },
  {
   "cell_type": "markdown",
   "metadata": {},
   "source": [
    "**Second method to define a go.Figure()**"
   ]
  },
  {
   "cell_type": "code",
   "execution_count": null,
   "metadata": {},
   "outputs": [],
   "source": [
    "df=pd.read_csv('SystEng.csv')\n",
    "xx=df['multiannual'].values\n",
    "yy=df['bachelor-th'].values"
   ]
  },
  {
   "cell_type": "code",
   "execution_count": null,
   "metadata": {},
   "outputs": [],
   "source": []
  },
  {
   "cell_type": "code",
   "execution_count": null,
   "metadata": {},
   "outputs": [],
   "source": [
    "matter=[[0.0, 'rgb(253, 237, 176)'],\n",
    "        [0.1, 'rgb(250, 202, 143)'],\n",
    "        [0.2, 'rgb(245, 166, 114)'],\n",
    "        [0.3, 'rgb(238, 132, 93)'],\n",
    "        [0.4, 'rgb(226, 97, 82)'],\n",
    "        [0.5, 'rgb(206, 67, 86)'],\n",
    "        [0.6, 'rgb(179, 46, 94)'],\n",
    "        [0.7, 'rgb(147, 31, 99)'],\n",
    "        [0.8, 'rgb(114, 25, 95)'],\n",
    "        [0.9, 'rgb(79, 21, 82)'],\n",
    "        [1.0, 'rgb(47, 15, 61)']]"
   ]
  },
  {
   "cell_type": "code",
   "execution_count": null,
   "metadata": {},
   "outputs": [],
   "source": [
    "my_data=[go.Histogram2dContour(x=xx,\n",
    "                               y=yy,\n",
    "                               ncontours=16,\n",
    "                               colorscale=matter,\n",
    "                               colorbar=dict(thickness=20, ticklen=4)\n",
    "                               )]\n",
    "my_layout=dict(title='',\n",
    "               width=600, \n",
    "               height=600, \n",
    "               xaxis=dict(zeroline=False, showgrid=False, ticklen=4, title='multiannual'),\n",
    "               yaxis=dict(zeroline=False, showgrid=False, ticklen=4, title='bachelor thesis', range=[5,11]),\n",
    "               hovermode='closest')\n",
    "\n",
    "fig1=go.Figure(data=my_data, \n",
    "              layout=my_layout)#this one is the classical Plotly method"
   ]
  },
  {
   "cell_type": "code",
   "execution_count": null,
   "metadata": {},
   "outputs": [],
   "source": [
    "fw1 = go.FigureWidget(fig1)\n",
    "fw1"
   ]
  },
  {
   "cell_type": "markdown",
   "metadata": {},
   "source": [
    "**Third case**"
   ]
  },
  {
   "cell_type": "markdown",
   "metadata": {},
   "source": [
    "Define a completely empty figure and try to set its data property:"
   ]
  },
  {
   "cell_type": "code",
   "execution_count": null,
   "metadata": {},
   "outputs": [],
   "source": [
    "fig2=go.Figure()\n",
    "fig2"
   ]
  },
  {
   "cell_type": "markdown",
   "metadata": {},
   "source": [
    "Define data for a `scatter` plot and a` histogram2dcontour` plot:"
   ]
  },
  {
   "cell_type": "code",
   "execution_count": null,
   "metadata": {},
   "outputs": [],
   "source": [
    "X=np.random.rand(500)\n",
    "Y=np.random.rand(500)"
   ]
  },
  {
   "cell_type": "code",
   "execution_count": null,
   "metadata": {},
   "outputs": [],
   "source": [
    "n_pts=1000\n",
    "\n",
    "m=[ 2.16, 3 ]#mean vector\n",
    "Sigma=np.array([[1.2, 0.8],#covariance matrix\n",
    "                [0.8, 1.75]])\n",
    "xd, yd=np.random.multivariate_normal(m, Sigma, size=n_pts).T"
   ]
  },
  {
   "cell_type": "code",
   "execution_count": null,
   "metadata": {},
   "outputs": [],
   "source": [
    "new_data=[go.Scatter(x=X, y=Y),\n",
    "          go.Histogram2dContour(x=xd, y=yd, colorscale=matter, showscale=False, ncontours=16)]\n"
   ]
  },
  {
   "cell_type": "markdown",
   "metadata": {},
   "source": [
    "We are tempted to define fig2.data as follows:"
   ]
  },
  {
   "cell_type": "code",
   "execution_count": null,
   "metadata": {},
   "outputs": [],
   "source": [
    "fig2.data=new_data"
   ]
  },
  {
   "cell_type": "markdown",
   "metadata": {},
   "source": [
    "but such an assignment throws an error. To better understand the above `ValueError` define the `go.Figure`, `fign`:"
   ]
  },
  {
   "cell_type": "code",
   "execution_count": null,
   "metadata": {},
   "outputs": [],
   "source": [
    "fign=go.Figure(data=new_data)"
   ]
  },
  {
   "cell_type": "markdown",
   "metadata": {},
   "source": [
    "and try to define `fig2.data` as follows:"
   ]
  },
  {
   "cell_type": "code",
   "execution_count": null,
   "metadata": {},
   "outputs": [],
   "source": [
    "fig2.data=[fign.data[1], fign.data[0]]"
   ]
  },
  {
   "cell_type": "markdown",
   "metadata": {},
   "source": [
    "We can set `fig.data` only with a sublist of itself traces that are eventually a permutation of the naturally ordered traces:\n",
    "\n",
    "`fig.data = [fig.data[2], fig.data[0]]`"
   ]
  },
  {
   "cell_type": "code",
   "execution_count": null,
   "metadata": {},
   "outputs": [],
   "source": []
  }
 ],
 "metadata": {
  "kernelspec": {
   "display_name": "Python 3",
   "language": "python",
   "name": "python3"
  },
  "language_info": {
   "codemirror_mode": {
    "name": "ipython",
    "version": 3
   },
   "file_extension": ".py",
   "mimetype": "text/x-python",
   "name": "python",
   "nbconvert_exporter": "python",
   "pygments_lexer": "ipython3",
   "version": "3.6.4"
  }
 },
 "nbformat": 4,
 "nbformat_minor": 2
}
